{
 "cells": [
  {
   "cell_type": "code",
   "execution_count": 149,
   "metadata": {},
   "outputs": [],
   "source": [
    "import numpy as np # linear algebra\n",
    "import pandas as pd # data processing, CSV file I/O (e.g. pd.read_csv)\n",
    "import matplotlib.pyplot as plt\n",
    "import seaborn as sns\n",
    "import warnings\n",
    "warnings.filterwarnings(\"ignore\")"
   ]
  },
  {
   "cell_type": "code",
   "execution_count": 150,
   "metadata": {},
   "outputs": [],
   "source": [
    "df = pd.read_csv('C:/enron/enron_financial_and_email_data.csv')"
   ]
  },
  {
   "cell_type": "code",
   "execution_count": 151,
   "metadata": {},
   "outputs": [
    {
     "data": {
      "text/html": [
       "<div>\n",
       "<style scoped>\n",
       "    .dataframe tbody tr th:only-of-type {\n",
       "        vertical-align: middle;\n",
       "    }\n",
       "\n",
       "    .dataframe tbody tr th {\n",
       "        vertical-align: top;\n",
       "    }\n",
       "\n",
       "    .dataframe thead th {\n",
       "        text-align: right;\n",
       "    }\n",
       "</style>\n",
       "<table border=\"1\" class=\"dataframe\">\n",
       "  <thead>\n",
       "    <tr style=\"text-align: right;\">\n",
       "      <th></th>\n",
       "      <th>salary</th>\n",
       "      <th>to_messages</th>\n",
       "      <th>deferral_payments</th>\n",
       "      <th>total_payments</th>\n",
       "      <th>exercised_stock_options</th>\n",
       "      <th>bonus</th>\n",
       "      <th>restricted_stock</th>\n",
       "      <th>shared_receipt_with_poi</th>\n",
       "      <th>restricted_stock_deferred</th>\n",
       "      <th>total_stock_value</th>\n",
       "      <th>expenses</th>\n",
       "      <th>loan_advances</th>\n",
       "      <th>from_messages</th>\n",
       "      <th>other</th>\n",
       "      <th>from_this_person_to_poi</th>\n",
       "      <th>director_fees</th>\n",
       "      <th>deferred_income</th>\n",
       "      <th>long_term_incentive</th>\n",
       "      <th>from_poi_to_this_person</th>\n",
       "    </tr>\n",
       "  </thead>\n",
       "  <tbody>\n",
       "    <tr>\n",
       "      <th>count</th>\n",
       "      <td>9.400000e+01</td>\n",
       "      <td>86.000000</td>\n",
       "      <td>3.800000e+01</td>\n",
       "      <td>1.240000e+02</td>\n",
       "      <td>1.010000e+02</td>\n",
       "      <td>8.100000e+01</td>\n",
       "      <td>1.090000e+02</td>\n",
       "      <td>86.000000</td>\n",
       "      <td>1.700000e+01</td>\n",
       "      <td>1.250000e+02</td>\n",
       "      <td>94.000000</td>\n",
       "      <td>3.000000e+00</td>\n",
       "      <td>86.000000</td>\n",
       "      <td>9.200000e+01</td>\n",
       "      <td>86.000000</td>\n",
       "      <td>16.000000</td>\n",
       "      <td>4.800000e+01</td>\n",
       "      <td>6.500000e+01</td>\n",
       "      <td>86.000000</td>\n",
       "    </tr>\n",
       "    <tr>\n",
       "      <th>mean</th>\n",
       "      <td>2.840875e+05</td>\n",
       "      <td>2073.860465</td>\n",
       "      <td>8.416025e+05</td>\n",
       "      <td>2.623421e+06</td>\n",
       "      <td>2.959559e+06</td>\n",
       "      <td>1.201773e+06</td>\n",
       "      <td>1.147424e+06</td>\n",
       "      <td>1176.465116</td>\n",
       "      <td>6.218928e+05</td>\n",
       "      <td>3.352073e+06</td>\n",
       "      <td>54192.010638</td>\n",
       "      <td>2.797500e+07</td>\n",
       "      <td>608.790698</td>\n",
       "      <td>4.652767e+05</td>\n",
       "      <td>41.232558</td>\n",
       "      <td>89822.875000</td>\n",
       "      <td>-5.810498e+05</td>\n",
       "      <td>7.464912e+05</td>\n",
       "      <td>64.895349</td>\n",
       "    </tr>\n",
       "    <tr>\n",
       "      <th>std</th>\n",
       "      <td>1.771311e+05</td>\n",
       "      <td>2582.700981</td>\n",
       "      <td>1.289323e+06</td>\n",
       "      <td>9.488106e+06</td>\n",
       "      <td>5.499450e+06</td>\n",
       "      <td>1.441679e+06</td>\n",
       "      <td>2.249770e+06</td>\n",
       "      <td>1178.317641</td>\n",
       "      <td>3.845528e+06</td>\n",
       "      <td>6.532883e+06</td>\n",
       "      <td>46108.377454</td>\n",
       "      <td>4.638256e+07</td>\n",
       "      <td>1841.033949</td>\n",
       "      <td>1.389719e+06</td>\n",
       "      <td>100.073111</td>\n",
       "      <td>41112.700735</td>\n",
       "      <td>9.420764e+05</td>\n",
       "      <td>8.629174e+05</td>\n",
       "      <td>86.979244</td>\n",
       "    </tr>\n",
       "    <tr>\n",
       "      <th>min</th>\n",
       "      <td>4.770000e+02</td>\n",
       "      <td>57.000000</td>\n",
       "      <td>-1.025000e+05</td>\n",
       "      <td>1.480000e+02</td>\n",
       "      <td>3.285000e+03</td>\n",
       "      <td>7.000000e+04</td>\n",
       "      <td>-2.604490e+06</td>\n",
       "      <td>2.000000</td>\n",
       "      <td>-1.787380e+06</td>\n",
       "      <td>-4.409300e+04</td>\n",
       "      <td>148.000000</td>\n",
       "      <td>4.000000e+05</td>\n",
       "      <td>12.000000</td>\n",
       "      <td>2.000000e+00</td>\n",
       "      <td>0.000000</td>\n",
       "      <td>3285.000000</td>\n",
       "      <td>-3.504386e+06</td>\n",
       "      <td>6.922300e+04</td>\n",
       "      <td>0.000000</td>\n",
       "    </tr>\n",
       "    <tr>\n",
       "      <th>25%</th>\n",
       "      <td>2.118020e+05</td>\n",
       "      <td>541.250000</td>\n",
       "      <td>7.964450e+04</td>\n",
       "      <td>3.863802e+05</td>\n",
       "      <td>5.067650e+05</td>\n",
       "      <td>4.250000e+05</td>\n",
       "      <td>2.520550e+05</td>\n",
       "      <td>249.750000</td>\n",
       "      <td>-3.298250e+05</td>\n",
       "      <td>4.941360e+05</td>\n",
       "      <td>22479.000000</td>\n",
       "      <td>1.200000e+06</td>\n",
       "      <td>22.750000</td>\n",
       "      <td>1.209000e+03</td>\n",
       "      <td>1.000000</td>\n",
       "      <td>83674.500000</td>\n",
       "      <td>-6.112092e+05</td>\n",
       "      <td>2.750000e+05</td>\n",
       "      <td>10.000000</td>\n",
       "    </tr>\n",
       "    <tr>\n",
       "      <th>50%</th>\n",
       "      <td>2.587410e+05</td>\n",
       "      <td>1211.000000</td>\n",
       "      <td>2.210635e+05</td>\n",
       "      <td>1.100246e+06</td>\n",
       "      <td>1.297049e+06</td>\n",
       "      <td>7.500000e+05</td>\n",
       "      <td>4.410960e+05</td>\n",
       "      <td>740.500000</td>\n",
       "      <td>-1.402640e+05</td>\n",
       "      <td>1.095040e+06</td>\n",
       "      <td>46547.500000</td>\n",
       "      <td>2.000000e+06</td>\n",
       "      <td>41.000000</td>\n",
       "      <td>5.198450e+04</td>\n",
       "      <td>8.000000</td>\n",
       "      <td>106164.500000</td>\n",
       "      <td>-1.519270e+05</td>\n",
       "      <td>4.221580e+05</td>\n",
       "      <td>35.000000</td>\n",
       "    </tr>\n",
       "    <tr>\n",
       "      <th>75%</th>\n",
       "      <td>3.086065e+05</td>\n",
       "      <td>2634.750000</td>\n",
       "      <td>8.672112e+05</td>\n",
       "      <td>2.084663e+06</td>\n",
       "      <td>2.542813e+06</td>\n",
       "      <td>1.200000e+06</td>\n",
       "      <td>9.850320e+05</td>\n",
       "      <td>1888.250000</td>\n",
       "      <td>-7.241900e+04</td>\n",
       "      <td>2.606763e+06</td>\n",
       "      <td>78408.500000</td>\n",
       "      <td>4.176250e+07</td>\n",
       "      <td>145.500000</td>\n",
       "      <td>3.575772e+05</td>\n",
       "      <td>24.750000</td>\n",
       "      <td>112815.000000</td>\n",
       "      <td>-3.792600e+04</td>\n",
       "      <td>8.318090e+05</td>\n",
       "      <td>72.250000</td>\n",
       "    </tr>\n",
       "    <tr>\n",
       "      <th>max</th>\n",
       "      <td>1.111258e+06</td>\n",
       "      <td>15149.000000</td>\n",
       "      <td>6.426990e+06</td>\n",
       "      <td>1.035598e+08</td>\n",
       "      <td>3.434838e+07</td>\n",
       "      <td>8.000000e+06</td>\n",
       "      <td>1.476169e+07</td>\n",
       "      <td>5521.000000</td>\n",
       "      <td>1.545629e+07</td>\n",
       "      <td>4.911008e+07</td>\n",
       "      <td>228763.000000</td>\n",
       "      <td>8.152500e+07</td>\n",
       "      <td>14368.000000</td>\n",
       "      <td>1.035973e+07</td>\n",
       "      <td>609.000000</td>\n",
       "      <td>137864.000000</td>\n",
       "      <td>-8.330000e+02</td>\n",
       "      <td>5.145434e+06</td>\n",
       "      <td>528.000000</td>\n",
       "    </tr>\n",
       "  </tbody>\n",
       "</table>\n",
       "</div>"
      ],
      "text/plain": [
       "             salary   to_messages  deferral_payments  total_payments  \\\n",
       "count  9.400000e+01     86.000000       3.800000e+01    1.240000e+02   \n",
       "mean   2.840875e+05   2073.860465       8.416025e+05    2.623421e+06   \n",
       "std    1.771311e+05   2582.700981       1.289323e+06    9.488106e+06   \n",
       "min    4.770000e+02     57.000000      -1.025000e+05    1.480000e+02   \n",
       "25%    2.118020e+05    541.250000       7.964450e+04    3.863802e+05   \n",
       "50%    2.587410e+05   1211.000000       2.210635e+05    1.100246e+06   \n",
       "75%    3.086065e+05   2634.750000       8.672112e+05    2.084663e+06   \n",
       "max    1.111258e+06  15149.000000       6.426990e+06    1.035598e+08   \n",
       "\n",
       "       exercised_stock_options         bonus  restricted_stock  \\\n",
       "count             1.010000e+02  8.100000e+01      1.090000e+02   \n",
       "mean              2.959559e+06  1.201773e+06      1.147424e+06   \n",
       "std               5.499450e+06  1.441679e+06      2.249770e+06   \n",
       "min               3.285000e+03  7.000000e+04     -2.604490e+06   \n",
       "25%               5.067650e+05  4.250000e+05      2.520550e+05   \n",
       "50%               1.297049e+06  7.500000e+05      4.410960e+05   \n",
       "75%               2.542813e+06  1.200000e+06      9.850320e+05   \n",
       "max               3.434838e+07  8.000000e+06      1.476169e+07   \n",
       "\n",
       "       shared_receipt_with_poi  restricted_stock_deferred  total_stock_value  \\\n",
       "count                86.000000               1.700000e+01       1.250000e+02   \n",
       "mean               1176.465116               6.218928e+05       3.352073e+06   \n",
       "std                1178.317641               3.845528e+06       6.532883e+06   \n",
       "min                   2.000000              -1.787380e+06      -4.409300e+04   \n",
       "25%                 249.750000              -3.298250e+05       4.941360e+05   \n",
       "50%                 740.500000              -1.402640e+05       1.095040e+06   \n",
       "75%                1888.250000              -7.241900e+04       2.606763e+06   \n",
       "max                5521.000000               1.545629e+07       4.911008e+07   \n",
       "\n",
       "            expenses  loan_advances  from_messages         other  \\\n",
       "count      94.000000   3.000000e+00      86.000000  9.200000e+01   \n",
       "mean    54192.010638   2.797500e+07     608.790698  4.652767e+05   \n",
       "std     46108.377454   4.638256e+07    1841.033949  1.389719e+06   \n",
       "min       148.000000   4.000000e+05      12.000000  2.000000e+00   \n",
       "25%     22479.000000   1.200000e+06      22.750000  1.209000e+03   \n",
       "50%     46547.500000   2.000000e+06      41.000000  5.198450e+04   \n",
       "75%     78408.500000   4.176250e+07     145.500000  3.575772e+05   \n",
       "max    228763.000000   8.152500e+07   14368.000000  1.035973e+07   \n",
       "\n",
       "       from_this_person_to_poi  director_fees  deferred_income  \\\n",
       "count                86.000000      16.000000     4.800000e+01   \n",
       "mean                 41.232558   89822.875000    -5.810498e+05   \n",
       "std                 100.073111   41112.700735     9.420764e+05   \n",
       "min                   0.000000    3285.000000    -3.504386e+06   \n",
       "25%                   1.000000   83674.500000    -6.112092e+05   \n",
       "50%                   8.000000  106164.500000    -1.519270e+05   \n",
       "75%                  24.750000  112815.000000    -3.792600e+04   \n",
       "max                 609.000000  137864.000000    -8.330000e+02   \n",
       "\n",
       "       long_term_incentive  from_poi_to_this_person  \n",
       "count         6.500000e+01                86.000000  \n",
       "mean          7.464912e+05                64.895349  \n",
       "std           8.629174e+05                86.979244  \n",
       "min           6.922300e+04                 0.000000  \n",
       "25%           2.750000e+05                10.000000  \n",
       "50%           4.221580e+05                35.000000  \n",
       "75%           8.318090e+05                72.250000  \n",
       "max           5.145434e+06               528.000000  "
      ]
     },
     "execution_count": 151,
     "metadata": {},
     "output_type": "execute_result"
    }
   ],
   "source": [
    "df.describe()"
   ]
  },
  {
   "cell_type": "code",
   "execution_count": 152,
   "metadata": {},
   "outputs": [
    {
     "data": {
      "text/html": [
       "<div>\n",
       "<style scoped>\n",
       "    .dataframe tbody tr th:only-of-type {\n",
       "        vertical-align: middle;\n",
       "    }\n",
       "\n",
       "    .dataframe tbody tr th {\n",
       "        vertical-align: top;\n",
       "    }\n",
       "\n",
       "    .dataframe thead th {\n",
       "        text-align: right;\n",
       "    }\n",
       "</style>\n",
       "<table border=\"1\" class=\"dataframe\">\n",
       "  <thead>\n",
       "    <tr style=\"text-align: right;\">\n",
       "      <th></th>\n",
       "      <th>name</th>\n",
       "      <th>salary</th>\n",
       "      <th>to_messages</th>\n",
       "      <th>deferral_payments</th>\n",
       "      <th>total_payments</th>\n",
       "      <th>exercised_stock_options</th>\n",
       "      <th>bonus</th>\n",
       "      <th>restricted_stock</th>\n",
       "      <th>shared_receipt_with_poi</th>\n",
       "      <th>restricted_stock_deferred</th>\n",
       "      <th>...</th>\n",
       "      <th>loan_advances</th>\n",
       "      <th>from_messages</th>\n",
       "      <th>other</th>\n",
       "      <th>from_this_person_to_poi</th>\n",
       "      <th>poi</th>\n",
       "      <th>director_fees</th>\n",
       "      <th>deferred_income</th>\n",
       "      <th>long_term_incentive</th>\n",
       "      <th>email_address</th>\n",
       "      <th>from_poi_to_this_person</th>\n",
       "    </tr>\n",
       "  </thead>\n",
       "  <tbody>\n",
       "    <tr>\n",
       "      <th>0</th>\n",
       "      <td>METTS MARK</td>\n",
       "      <td>365788.0</td>\n",
       "      <td>807.0</td>\n",
       "      <td>NaN</td>\n",
       "      <td>1061827.0</td>\n",
       "      <td>NaN</td>\n",
       "      <td>600000.0</td>\n",
       "      <td>585062.0</td>\n",
       "      <td>702.0</td>\n",
       "      <td>NaN</td>\n",
       "      <td>...</td>\n",
       "      <td>NaN</td>\n",
       "      <td>29.0</td>\n",
       "      <td>1740.0</td>\n",
       "      <td>1.0</td>\n",
       "      <td>False</td>\n",
       "      <td>NaN</td>\n",
       "      <td>NaN</td>\n",
       "      <td>NaN</td>\n",
       "      <td>mark.metts@enron.com</td>\n",
       "      <td>38.0</td>\n",
       "    </tr>\n",
       "    <tr>\n",
       "      <th>1</th>\n",
       "      <td>BAXTER JOHN C</td>\n",
       "      <td>267102.0</td>\n",
       "      <td>NaN</td>\n",
       "      <td>1295738.0</td>\n",
       "      <td>5634343.0</td>\n",
       "      <td>6680544.0</td>\n",
       "      <td>1200000.0</td>\n",
       "      <td>3942714.0</td>\n",
       "      <td>NaN</td>\n",
       "      <td>NaN</td>\n",
       "      <td>...</td>\n",
       "      <td>NaN</td>\n",
       "      <td>NaN</td>\n",
       "      <td>2660303.0</td>\n",
       "      <td>NaN</td>\n",
       "      <td>False</td>\n",
       "      <td>NaN</td>\n",
       "      <td>-1386055.0</td>\n",
       "      <td>1586055.0</td>\n",
       "      <td>NaN</td>\n",
       "      <td>NaN</td>\n",
       "    </tr>\n",
       "    <tr>\n",
       "      <th>2</th>\n",
       "      <td>ELLIOTT STEVEN</td>\n",
       "      <td>170941.0</td>\n",
       "      <td>NaN</td>\n",
       "      <td>NaN</td>\n",
       "      <td>211725.0</td>\n",
       "      <td>4890344.0</td>\n",
       "      <td>350000.0</td>\n",
       "      <td>1788391.0</td>\n",
       "      <td>NaN</td>\n",
       "      <td>NaN</td>\n",
       "      <td>...</td>\n",
       "      <td>NaN</td>\n",
       "      <td>NaN</td>\n",
       "      <td>12961.0</td>\n",
       "      <td>NaN</td>\n",
       "      <td>False</td>\n",
       "      <td>NaN</td>\n",
       "      <td>-400729.0</td>\n",
       "      <td>NaN</td>\n",
       "      <td>steven.elliott@enron.com</td>\n",
       "      <td>NaN</td>\n",
       "    </tr>\n",
       "    <tr>\n",
       "      <th>3</th>\n",
       "      <td>CORDES WILLIAM R</td>\n",
       "      <td>NaN</td>\n",
       "      <td>764.0</td>\n",
       "      <td>NaN</td>\n",
       "      <td>NaN</td>\n",
       "      <td>651850.0</td>\n",
       "      <td>NaN</td>\n",
       "      <td>386335.0</td>\n",
       "      <td>58.0</td>\n",
       "      <td>NaN</td>\n",
       "      <td>...</td>\n",
       "      <td>NaN</td>\n",
       "      <td>12.0</td>\n",
       "      <td>NaN</td>\n",
       "      <td>0.0</td>\n",
       "      <td>False</td>\n",
       "      <td>NaN</td>\n",
       "      <td>NaN</td>\n",
       "      <td>NaN</td>\n",
       "      <td>bill.cordes@enron.com</td>\n",
       "      <td>10.0</td>\n",
       "    </tr>\n",
       "    <tr>\n",
       "      <th>4</th>\n",
       "      <td>HANNON KEVIN P</td>\n",
       "      <td>243293.0</td>\n",
       "      <td>1045.0</td>\n",
       "      <td>NaN</td>\n",
       "      <td>288682.0</td>\n",
       "      <td>5538001.0</td>\n",
       "      <td>1500000.0</td>\n",
       "      <td>853064.0</td>\n",
       "      <td>1035.0</td>\n",
       "      <td>NaN</td>\n",
       "      <td>...</td>\n",
       "      <td>NaN</td>\n",
       "      <td>32.0</td>\n",
       "      <td>11350.0</td>\n",
       "      <td>21.0</td>\n",
       "      <td>True</td>\n",
       "      <td>NaN</td>\n",
       "      <td>-3117011.0</td>\n",
       "      <td>1617011.0</td>\n",
       "      <td>kevin.hannon@enron.com</td>\n",
       "      <td>32.0</td>\n",
       "    </tr>\n",
       "  </tbody>\n",
       "</table>\n",
       "<p>5 rows × 22 columns</p>\n",
       "</div>"
      ],
      "text/plain": [
       "               name    salary  to_messages  deferral_payments  total_payments  \\\n",
       "0        METTS MARK  365788.0        807.0                NaN       1061827.0   \n",
       "1     BAXTER JOHN C  267102.0          NaN          1295738.0       5634343.0   \n",
       "2    ELLIOTT STEVEN  170941.0          NaN                NaN        211725.0   \n",
       "3  CORDES WILLIAM R       NaN        764.0                NaN             NaN   \n",
       "4    HANNON KEVIN P  243293.0       1045.0                NaN        288682.0   \n",
       "\n",
       "   exercised_stock_options      bonus  restricted_stock  \\\n",
       "0                      NaN   600000.0          585062.0   \n",
       "1                6680544.0  1200000.0         3942714.0   \n",
       "2                4890344.0   350000.0         1788391.0   \n",
       "3                 651850.0        NaN          386335.0   \n",
       "4                5538001.0  1500000.0          853064.0   \n",
       "\n",
       "   shared_receipt_with_poi  restricted_stock_deferred  ...  loan_advances  \\\n",
       "0                    702.0                        NaN  ...            NaN   \n",
       "1                      NaN                        NaN  ...            NaN   \n",
       "2                      NaN                        NaN  ...            NaN   \n",
       "3                     58.0                        NaN  ...            NaN   \n",
       "4                   1035.0                        NaN  ...            NaN   \n",
       "\n",
       "   from_messages      other  from_this_person_to_poi    poi  director_fees  \\\n",
       "0           29.0     1740.0                      1.0  False            NaN   \n",
       "1            NaN  2660303.0                      NaN  False            NaN   \n",
       "2            NaN    12961.0                      NaN  False            NaN   \n",
       "3           12.0        NaN                      0.0  False            NaN   \n",
       "4           32.0    11350.0                     21.0   True            NaN   \n",
       "\n",
       "   deferred_income  long_term_incentive             email_address  \\\n",
       "0              NaN                  NaN      mark.metts@enron.com   \n",
       "1       -1386055.0            1586055.0                       NaN   \n",
       "2        -400729.0                  NaN  steven.elliott@enron.com   \n",
       "3              NaN                  NaN     bill.cordes@enron.com   \n",
       "4       -3117011.0            1617011.0    kevin.hannon@enron.com   \n",
       "\n",
       "   from_poi_to_this_person  \n",
       "0                     38.0  \n",
       "1                      NaN  \n",
       "2                      NaN  \n",
       "3                     10.0  \n",
       "4                     32.0  \n",
       "\n",
       "[5 rows x 22 columns]"
      ]
     },
     "execution_count": 152,
     "metadata": {},
     "output_type": "execute_result"
    }
   ],
   "source": [
    "df.head(5)"
   ]
  },
  {
   "cell_type": "code",
   "execution_count": 153,
   "metadata": {},
   "outputs": [
    {
     "data": {
      "text/plain": [
       "name                           0\n",
       "salary                        51\n",
       "to_messages                   59\n",
       "deferral_payments            107\n",
       "total_payments                21\n",
       "exercised_stock_options       44\n",
       "bonus                         64\n",
       "restricted_stock              36\n",
       "shared_receipt_with_poi       59\n",
       "restricted_stock_deferred    128\n",
       "total_stock_value             20\n",
       "expenses                      51\n",
       "loan_advances                142\n",
       "from_messages                 59\n",
       "other                         53\n",
       "from_this_person_to_poi       59\n",
       "poi                            0\n",
       "director_fees                129\n",
       "deferred_income               97\n",
       "long_term_incentive           80\n",
       "email_address                 34\n",
       "from_poi_to_this_person       59\n",
       "dtype: int64"
      ]
     },
     "execution_count": 153,
     "metadata": {},
     "output_type": "execute_result"
    }
   ],
   "source": [
    "#check for null values\n",
    "pd.isnull(df).sum()"
   ]
  },
  {
   "cell_type": "code",
   "execution_count": 154,
   "metadata": {},
   "outputs": [
    {
     "data": {
      "text/plain": [
       "['name', 'email_address']"
      ]
     },
     "execution_count": 154,
     "metadata": {},
     "output_type": "execute_result"
    }
   ],
   "source": [
    "## Checking the feature data type:\n",
    "features_to_check = []\n",
    "for col in df.columns:\n",
    "    datatype = type(df[col][0])\n",
    "    ## Uncomment the line below for a verbose mode:\n",
    "    # print '{} has type {}'.format(col,datatype)\n",
    "    ## Here we select those attributes which have string type data:\n",
    "    if datatype is str:\n",
    "        features_to_check.append(col)\n",
    "\n",
    "features_to_check"
   ]
  },
  {
   "cell_type": "code",
   "execution_count": 155,
   "metadata": {},
   "outputs": [],
   "source": [
    "for column in df.columns:\n",
    "    df[column] = df[column].apply(lambda x: np.NaN if x == 'NaN' else x)"
   ]
  },
  {
   "cell_type": "code",
   "execution_count": 156,
   "metadata": {},
   "outputs": [
    {
     "name": "stdout",
     "output_type": "stream",
     "text": [
      "<class 'pandas.core.frame.DataFrame'>\n",
      "RangeIndex: 145 entries, 0 to 144\n",
      "Data columns (total 22 columns):\n",
      " #   Column                     Non-Null Count  Dtype  \n",
      "---  ------                     --------------  -----  \n",
      " 0   name                       145 non-null    object \n",
      " 1   salary                     94 non-null     float64\n",
      " 2   to_messages                86 non-null     float64\n",
      " 3   deferral_payments          38 non-null     float64\n",
      " 4   total_payments             124 non-null    float64\n",
      " 5   exercised_stock_options    101 non-null    float64\n",
      " 6   bonus                      81 non-null     float64\n",
      " 7   restricted_stock           109 non-null    float64\n",
      " 8   shared_receipt_with_poi    86 non-null     float64\n",
      " 9   restricted_stock_deferred  17 non-null     float64\n",
      " 10  total_stock_value          125 non-null    float64\n",
      " 11  expenses                   94 non-null     float64\n",
      " 12  loan_advances              3 non-null      float64\n",
      " 13  from_messages              86 non-null     float64\n",
      " 14  other                      92 non-null     float64\n",
      " 15  from_this_person_to_poi    86 non-null     float64\n",
      " 16  poi                        145 non-null    bool   \n",
      " 17  director_fees              16 non-null     float64\n",
      " 18  deferred_income            48 non-null     float64\n",
      " 19  long_term_incentive        65 non-null     float64\n",
      " 20  email_address              111 non-null    object \n",
      " 21  from_poi_to_this_person    86 non-null     float64\n",
      "dtypes: bool(1), float64(19), object(2)\n",
      "memory usage: 24.1+ KB\n"
     ]
    }
   ],
   "source": [
    "df.info()"
   ]
  },
  {
   "cell_type": "code",
   "execution_count": 157,
   "metadata": {},
   "outputs": [
    {
     "name": "stdout",
     "output_type": "stream",
     "text": [
      "Not Person of interest 87.59 % of the dataset\n",
      "Person of interest 12.41 % of the dataset\n"
     ]
    }
   ],
   "source": [
    "# The classes are heavily skewed we need to solve this issue later.\n",
    "print('Not Person of interest', round(df['poi'].value_counts()[0]/len(df) * 100,2), '% of the dataset')\n",
    "print('Person of interest', round(df['poi'].value_counts()[1]/len(df) * 100,2), '% of the dataset')"
   ]
  },
  {
   "cell_type": "code",
   "execution_count": 158,
   "metadata": {},
   "outputs": [],
   "source": [
    "## Only numerical features are being considered here\n",
    "financialFeatures = ['salary','bonus', 'exercised_stock_options', 'restricted_stock', 'shared_receipt_with_poi',\n",
    "                     'total_payments', 'expenses', 'total_stock_value', 'deferred_income', 'long_term_incentive']\n",
    "behavioralFeatures = ['to_messages', 'from_messages', 'from_poi_to_this_person', 'from_this_person_to_poi', 'other']\n",
    "allFeatures = ['poi','salary','bonus', 'exercised_stock_options', 'restricted_stock', 'shared_receipt_with_poi',\n",
    "               'total_payments', 'expenses', 'total_stock_value', 'deferred_income', 'long_term_incentive',\n",
    "               'to_messages', 'from_messages', 'from_poi_to_this_person', 'from_this_person_to_poi', 'other']"
   ]
  },
  {
   "cell_type": "code",
   "execution_count": 159,
   "metadata": {},
   "outputs": [],
   "source": [
    "df.fillna(0,inplace=True)"
   ]
  },
  {
   "cell_type": "code",
   "execution_count": 160,
   "metadata": {},
   "outputs": [
    {
     "data": {
      "text/plain": [
       "name                         0\n",
       "salary                       0\n",
       "to_messages                  0\n",
       "deferral_payments            0\n",
       "total_payments               0\n",
       "exercised_stock_options      0\n",
       "bonus                        0\n",
       "restricted_stock             0\n",
       "shared_receipt_with_poi      0\n",
       "restricted_stock_deferred    0\n",
       "total_stock_value            0\n",
       "expenses                     0\n",
       "loan_advances                0\n",
       "from_messages                0\n",
       "other                        0\n",
       "from_this_person_to_poi      0\n",
       "poi                          0\n",
       "director_fees                0\n",
       "deferred_income              0\n",
       "long_term_incentive          0\n",
       "email_address                0\n",
       "from_poi_to_this_person      0\n",
       "dtype: int64"
      ]
     },
     "execution_count": 160,
     "metadata": {},
     "output_type": "execute_result"
    }
   ],
   "source": [
    "#check for null values\n",
    "pd.isnull(df).sum()"
   ]
  },
  {
   "cell_type": "code",
   "execution_count": 161,
   "metadata": {},
   "outputs": [],
   "source": [
    "from sklearn.preprocessing import StandardScaler, RobustScaler\n",
    "\n",
    "# RobustScaler is less prone to outliers.\n",
    "\n",
    "std_scaler = StandardScaler()\n",
    "rob_scaler = RobustScaler()\n",
    "\n",
    "scalered_df = rob_scaler.fit_transform(df[allFeatures])"
   ]
  },
  {
   "cell_type": "code",
   "execution_count": 162,
   "metadata": {},
   "outputs": [
    {
     "data": {
      "text/html": [
       "<div>\n",
       "<style scoped>\n",
       "    .dataframe tbody tr th:only-of-type {\n",
       "        vertical-align: middle;\n",
       "    }\n",
       "\n",
       "    .dataframe tbody tr th {\n",
       "        vertical-align: top;\n",
       "    }\n",
       "\n",
       "    .dataframe thead th {\n",
       "        text-align: right;\n",
       "    }\n",
       "</style>\n",
       "<table border=\"1\" class=\"dataframe\">\n",
       "  <thead>\n",
       "    <tr style=\"text-align: right;\">\n",
       "      <th></th>\n",
       "      <th>poi</th>\n",
       "      <th>salary</th>\n",
       "      <th>bonus</th>\n",
       "      <th>exercised_stock_options</th>\n",
       "      <th>restricted_stock</th>\n",
       "      <th>shared_receipt_with_poi</th>\n",
       "      <th>total_payments</th>\n",
       "      <th>expenses</th>\n",
       "      <th>total_stock_value</th>\n",
       "      <th>deferred_income</th>\n",
       "      <th>long_term_incentive</th>\n",
       "      <th>to_messages</th>\n",
       "      <th>from_messages</th>\n",
       "      <th>from_poi_to_this_person</th>\n",
       "      <th>from_this_person_to_poi</th>\n",
       "      <th>other</th>\n",
       "    </tr>\n",
       "  </thead>\n",
       "  <tbody>\n",
       "    <tr>\n",
       "      <th>0</th>\n",
       "      <td>0.0</td>\n",
       "      <td>0.577116</td>\n",
       "      <td>0.3750</td>\n",
       "      <td>-0.364354</td>\n",
       "      <td>0.321259</td>\n",
       "      <td>0.653333</td>\n",
       "      <td>0.079007</td>\n",
       "      <td>1.420598</td>\n",
       "      <td>-0.179863</td>\n",
       "      <td>0.000000</td>\n",
       "      <td>0.000000</td>\n",
       "      <td>0.308027</td>\n",
       "      <td>0.230769</td>\n",
       "      <td>0.829268</td>\n",
       "      <td>0.071429</td>\n",
       "      <td>0.005271</td>\n",
       "    </tr>\n",
       "    <tr>\n",
       "      <th>1</th>\n",
       "      <td>0.0</td>\n",
       "      <td>0.210357</td>\n",
       "      <td>1.1250</td>\n",
       "      <td>3.640144</td>\n",
       "      <td>5.125316</td>\n",
       "      <td>-0.126667</td>\n",
       "      <td>2.559666</td>\n",
       "      <td>-0.143707</td>\n",
       "      <td>4.689202</td>\n",
       "      <td>-37.802187</td>\n",
       "      <td>4.236858</td>\n",
       "      <td>-0.194151</td>\n",
       "      <td>-0.326923</td>\n",
       "      <td>-0.097561</td>\n",
       "      <td>0.000000</td>\n",
       "      <td>17.675072</td>\n",
       "    </tr>\n",
       "    <tr>\n",
       "      <th>2</th>\n",
       "      <td>0.0</td>\n",
       "      <td>-0.147018</td>\n",
       "      <td>0.0625</td>\n",
       "      <td>2.567050</td>\n",
       "      <td>2.042956</td>\n",
       "      <td>-0.126667</td>\n",
       "      <td>-0.382187</td>\n",
       "      <td>1.124167</td>\n",
       "      <td>2.775896</td>\n",
       "      <td>-10.929171</td>\n",
       "      <td>0.000000</td>\n",
       "      <td>-0.194151</td>\n",
       "      <td>-0.326923</td>\n",
       "      <td>-0.097561</td>\n",
       "      <td>0.000000</td>\n",
       "      <td>0.079850</td>\n",
       "    </tr>\n",
       "    <tr>\n",
       "      <th>3</th>\n",
       "      <td>0.0</td>\n",
       "      <td>-0.782307</td>\n",
       "      <td>-0.3750</td>\n",
       "      <td>0.026383</td>\n",
       "      <td>0.036924</td>\n",
       "      <td>-0.062222</td>\n",
       "      <td>-0.497051</td>\n",
       "      <td>-0.354542</td>\n",
       "      <td>0.039926</td>\n",
       "      <td>0.000000</td>\n",
       "      <td>0.000000</td>\n",
       "      <td>0.281269</td>\n",
       "      <td>-0.096154</td>\n",
       "      <td>0.146341</td>\n",
       "      <td>0.000000</td>\n",
       "      <td>-0.006294</td>\n",
       "    </tr>\n",
       "    <tr>\n",
       "      <th>4</th>\n",
       "      <td>1.0</td>\n",
       "      <td>0.121873</td>\n",
       "      <td>1.5000</td>\n",
       "      <td>2.955273</td>\n",
       "      <td>0.704710</td>\n",
       "      <td>1.023333</td>\n",
       "      <td>-0.340436</td>\n",
       "      <td>0.286228</td>\n",
       "      <td>2.636361</td>\n",
       "      <td>-85.010937</td>\n",
       "      <td>4.319551</td>\n",
       "      <td>0.456129</td>\n",
       "      <td>0.288462</td>\n",
       "      <td>0.682927</td>\n",
       "      <td>1.500000</td>\n",
       "      <td>0.069142</td>\n",
       "    </tr>\n",
       "  </tbody>\n",
       "</table>\n",
       "</div>"
      ],
      "text/plain": [
       "   poi    salary   bonus  exercised_stock_options  restricted_stock  \\\n",
       "0  0.0  0.577116  0.3750                -0.364354          0.321259   \n",
       "1  0.0  0.210357  1.1250                 3.640144          5.125316   \n",
       "2  0.0 -0.147018  0.0625                 2.567050          2.042956   \n",
       "3  0.0 -0.782307 -0.3750                 0.026383          0.036924   \n",
       "4  1.0  0.121873  1.5000                 2.955273          0.704710   \n",
       "\n",
       "   shared_receipt_with_poi  total_payments  expenses  total_stock_value  \\\n",
       "0                 0.653333        0.079007  1.420598          -0.179863   \n",
       "1                -0.126667        2.559666 -0.143707           4.689202   \n",
       "2                -0.126667       -0.382187  1.124167           2.775896   \n",
       "3                -0.062222       -0.497051 -0.354542           0.039926   \n",
       "4                 1.023333       -0.340436  0.286228           2.636361   \n",
       "\n",
       "   deferred_income  long_term_incentive  to_messages  from_messages  \\\n",
       "0         0.000000             0.000000     0.308027       0.230769   \n",
       "1       -37.802187             4.236858    -0.194151      -0.326923   \n",
       "2       -10.929171             0.000000    -0.194151      -0.326923   \n",
       "3         0.000000             0.000000     0.281269      -0.096154   \n",
       "4       -85.010937             4.319551     0.456129       0.288462   \n",
       "\n",
       "   from_poi_to_this_person  from_this_person_to_poi      other  \n",
       "0                 0.829268                 0.071429   0.005271  \n",
       "1                -0.097561                 0.000000  17.675072  \n",
       "2                -0.097561                 0.000000   0.079850  \n",
       "3                 0.146341                 0.000000  -0.006294  \n",
       "4                 0.682927                 1.500000   0.069142  "
      ]
     },
     "execution_count": 162,
     "metadata": {},
     "output_type": "execute_result"
    }
   ],
   "source": [
    "scalered_df = pd.DataFrame(scalered_df, columns=df[allFeatures].columns)\n",
    "scalered_df.head(5)"
   ]
  },
  {
   "cell_type": "code",
   "execution_count": 163,
   "metadata": {},
   "outputs": [
    {
     "name": "stdout",
     "output_type": "stream",
     "text": [
      "Not Person of interest 87.59 % of the dataset\n",
      "Person of interest 12.41 % of the dataset\n",
      "<class 'pandas.core.frame.DataFrame'>\n",
      "[[ 0.57711576  0.375      -0.36435388 ...  0.82926829  0.07142857\n",
      "   0.00527057]\n",
      " [ 0.21035693  1.125       3.64014422 ... -0.09756098  0.\n",
      "  17.67507211]\n",
      " [-0.14701794  0.0625      2.5670501  ... -0.09756098  0.\n",
      "   0.07984953]\n",
      " ...\n",
      " [-0.78230686 -0.375      -0.20981142 ... -0.09756098  0.\n",
      "  -0.00629412]\n",
      " [-0.78230686 -0.375       0.08819309 ...  0.75609756  0.35714286\n",
      "  -0.00629412]\n",
      " [-0.19361444 -0.375       4.61601609 ... -0.09756098  0.\n",
      "   0.97703678]]\n",
      "----------------------------------------------------------------------------------------------------\n",
      "Label Distributions: \n",
      "\n",
      "[0.87931034 0.12068966]\n",
      "[0.86206897 0.13793103]\n"
     ]
    }
   ],
   "source": [
    "from sklearn.model_selection import train_test_split\n",
    "from sklearn.model_selection import StratifiedShuffleSplit\n",
    "from sklearn.model_selection import KFold, StratifiedKFold\n",
    "\n",
    "print('Not Person of interest', round(scalered_df['poi'].value_counts()[0]/len(df) * 100,2), '% of the dataset')\n",
    "print('Person of interest', round(scalered_df['poi'].value_counts()[1]/len(df) * 100,2), '% of the dataset')\n",
    "\n",
    "X = scalered_df.drop('poi', axis=1)\n",
    "y = scalered_df['poi']\n",
    "\n",
    "#print(X)\n",
    "#print(y)\n",
    "sss = StratifiedKFold(n_splits=5, random_state=None, shuffle=False)\n",
    "\n",
    "for train_index, test_index in sss.split(X, y):\n",
    "    #print(\"Train:\", train_index, \"Test:\", test_index)\n",
    "    original_Xtrain, original_Xtest = X.iloc[train_index], X.iloc[test_index]\n",
    "    original_ytrain, original_ytest = y.iloc[train_index], y.iloc[test_index]\n",
    "\n",
    "# We already have X_train and y_train for undersample data thats why I am using original to distinguish and to not overwrite these variables.\n",
    "# original_Xtrain, original_Xtest, original_ytrain, original_ytest = train_test_split(X, y, test_size=0.2, random_state=42)\n",
    "\n",
    "# Check the Distribution of the labels\n",
    "# Turn into an array\n",
    "print(type(original_Xtrain))\n",
    "original_Xtrain = original_Xtrain.to_numpy()\n",
    "print(original_Xtrain)\n",
    "original_Xtest = original_Xtest.values\n",
    "original_ytrain = original_ytrain.values\n",
    "original_ytest = original_ytest.values\n",
    "\n",
    "# See if both the train and test label distribution are similarly distributed\n",
    "train_unique_label, train_counts_label = np.unique(original_ytrain, return_counts=True)\n",
    "test_unique_label, test_counts_label = np.unique(original_ytest, return_counts=True)\n",
    "print('-' * 100)\n",
    "\n",
    "print('Label Distributions: \\n')\n",
    "print(train_counts_label/ len(original_ytrain))\n",
    "print(test_counts_label/ len(original_ytest))"
   ]
  },
  {
   "cell_type": "code",
   "execution_count": 164,
   "metadata": {},
   "outputs": [
    {
     "data": {
      "text/html": [
       "<div>\n",
       "<style scoped>\n",
       "    .dataframe tbody tr th:only-of-type {\n",
       "        vertical-align: middle;\n",
       "    }\n",
       "\n",
       "    .dataframe tbody tr th {\n",
       "        vertical-align: top;\n",
       "    }\n",
       "\n",
       "    .dataframe thead th {\n",
       "        text-align: right;\n",
       "    }\n",
       "</style>\n",
       "<table border=\"1\" class=\"dataframe\">\n",
       "  <thead>\n",
       "    <tr style=\"text-align: right;\">\n",
       "      <th></th>\n",
       "      <th>poi</th>\n",
       "      <th>salary</th>\n",
       "      <th>bonus</th>\n",
       "      <th>exercised_stock_options</th>\n",
       "      <th>restricted_stock</th>\n",
       "      <th>shared_receipt_with_poi</th>\n",
       "      <th>total_payments</th>\n",
       "      <th>expenses</th>\n",
       "      <th>total_stock_value</th>\n",
       "      <th>deferred_income</th>\n",
       "      <th>long_term_incentive</th>\n",
       "      <th>to_messages</th>\n",
       "      <th>from_messages</th>\n",
       "      <th>from_poi_to_this_person</th>\n",
       "      <th>from_this_person_to_poi</th>\n",
       "      <th>other</th>\n",
       "    </tr>\n",
       "  </thead>\n",
       "  <tbody>\n",
       "    <tr>\n",
       "      <th>19</th>\n",
       "      <td>0.0</td>\n",
       "      <td>-0.545407</td>\n",
       "      <td>-0.375</td>\n",
       "      <td>-0.364354</td>\n",
       "      <td>0.034914</td>\n",
       "      <td>-0.126667</td>\n",
       "      <td>-0.083581</td>\n",
       "      <td>0.621889</td>\n",
       "      <td>-0.276938</td>\n",
       "      <td>-0.294551</td>\n",
       "      <td>0.684368</td>\n",
       "      <td>-0.194151</td>\n",
       "      <td>-0.326923</td>\n",
       "      <td>-0.097561</td>\n",
       "      <td>0.000000</td>\n",
       "      <td>2.659766</td>\n",
       "    </tr>\n",
       "    <tr>\n",
       "      <th>124</th>\n",
       "      <td>1.0</td>\n",
       "      <td>-0.193614</td>\n",
       "      <td>-0.375</td>\n",
       "      <td>4.616016</td>\n",
       "      <td>4.600924</td>\n",
       "      <td>-0.126667</td>\n",
       "      <td>-0.301583</td>\n",
       "      <td>0.660988</td>\n",
       "      <td>5.301097</td>\n",
       "      <td>0.000000</td>\n",
       "      <td>0.000000</td>\n",
       "      <td>-0.194151</td>\n",
       "      <td>-0.326923</td>\n",
       "      <td>-0.097561</td>\n",
       "      <td>0.000000</td>\n",
       "      <td>0.977037</td>\n",
       "    </tr>\n",
       "    <tr>\n",
       "      <th>9</th>\n",
       "      <td>0.0</td>\n",
       "      <td>-0.049834</td>\n",
       "      <td>0.125</td>\n",
       "      <td>0.163316</td>\n",
       "      <td>0.070145</td>\n",
       "      <td>0.697778</td>\n",
       "      <td>0.445639</td>\n",
       "      <td>0.455988</td>\n",
       "      <td>-0.036662</td>\n",
       "      <td>-0.909098</td>\n",
       "      <td>0.000000</td>\n",
       "      <td>0.576229</td>\n",
       "      <td>3.942308</td>\n",
       "      <td>1.390244</td>\n",
       "      <td>3.428571</td>\n",
       "      <td>-0.001123</td>\n",
       "    </tr>\n",
       "    <tr>\n",
       "      <th>13</th>\n",
       "      <td>0.0</td>\n",
       "      <td>0.174620</td>\n",
       "      <td>0.500</td>\n",
       "      <td>-0.364354</td>\n",
       "      <td>0.484164</td>\n",
       "      <td>2.723333</td>\n",
       "      <td>0.341167</td>\n",
       "      <td>-0.354542</td>\n",
       "      <td>-0.124636</td>\n",
       "      <td>0.000000</td>\n",
       "      <td>1.272752</td>\n",
       "      <td>1.453018</td>\n",
       "      <td>0.403846</td>\n",
       "      <td>0.804878</td>\n",
       "      <td>0.928571</td>\n",
       "      <td>0.732264</td>\n",
       "    </tr>\n",
       "    <tr>\n",
       "      <th>141</th>\n",
       "      <td>1.0</td>\n",
       "      <td>0.760711</td>\n",
       "      <td>0.875</td>\n",
       "      <td>-0.364354</td>\n",
       "      <td>3.064063</td>\n",
       "      <td>1.634444</td>\n",
       "      <td>0.516779</td>\n",
       "      <td>0.222883</td>\n",
       "      <td>0.749985</td>\n",
       "      <td>-6.409207</td>\n",
       "      <td>0.934961</td>\n",
       "      <td>0.983199</td>\n",
       "      <td>0.615385</td>\n",
       "      <td>1.317073</td>\n",
       "      <td>0.857143</td>\n",
       "      <td>2.040091</td>\n",
       "    </tr>\n",
       "  </tbody>\n",
       "</table>\n",
       "</div>"
      ],
      "text/plain": [
       "     poi    salary  bonus  exercised_stock_options  restricted_stock  \\\n",
       "19   0.0 -0.545407 -0.375                -0.364354          0.034914   \n",
       "124  1.0 -0.193614 -0.375                 4.616016          4.600924   \n",
       "9    0.0 -0.049834  0.125                 0.163316          0.070145   \n",
       "13   0.0  0.174620  0.500                -0.364354          0.484164   \n",
       "141  1.0  0.760711  0.875                -0.364354          3.064063   \n",
       "\n",
       "     shared_receipt_with_poi  total_payments  expenses  total_stock_value  \\\n",
       "19                 -0.126667       -0.083581  0.621889          -0.276938   \n",
       "124                -0.126667       -0.301583  0.660988           5.301097   \n",
       "9                   0.697778        0.445639  0.455988          -0.036662   \n",
       "13                  2.723333        0.341167 -0.354542          -0.124636   \n",
       "141                 1.634444        0.516779  0.222883           0.749985   \n",
       "\n",
       "     deferred_income  long_term_incentive  to_messages  from_messages  \\\n",
       "19         -0.294551             0.684368    -0.194151      -0.326923   \n",
       "124         0.000000             0.000000    -0.194151      -0.326923   \n",
       "9          -0.909098             0.000000     0.576229       3.942308   \n",
       "13          0.000000             1.272752     1.453018       0.403846   \n",
       "141        -6.409207             0.934961     0.983199       0.615385   \n",
       "\n",
       "     from_poi_to_this_person  from_this_person_to_poi     other  \n",
       "19                 -0.097561                 0.000000  2.659766  \n",
       "124                -0.097561                 0.000000  0.977037  \n",
       "9                   1.390244                 3.428571 -0.001123  \n",
       "13                  0.804878                 0.928571  0.732264  \n",
       "141                 1.317073                 0.857143  2.040091  "
      ]
     },
     "execution_count": 164,
     "metadata": {},
     "output_type": "execute_result"
    }
   ],
   "source": [
    "# Since our classes are highly skewed we should make them equivalent in order to have a normal distribution of the classes.\n",
    "\n",
    "# Lets shuffle the data before creating the subsamples\n",
    "\n",
    "df = df.sample(frac=1)\n",
    "\n",
    "# amount of poi classes 18 rows.\n",
    "poi_df = scalered_df.loc[scalered_df['poi'] == 1]\n",
    "non_poi_df = scalered_df.loc[scalered_df['poi'] == 0][:18]\n",
    "\n",
    "normal_distributed_df = pd.concat([poi_df, non_poi_df])\n",
    "\n",
    "# Shuffle dataframe rows\n",
    "new_df = normal_distributed_df.sample(frac=1, random_state=42)\n",
    "\n",
    "new_df.head()"
   ]
  },
  {
   "cell_type": "code",
   "execution_count": 165,
   "metadata": {},
   "outputs": [
    {
     "name": "stdout",
     "output_type": "stream",
     "text": [
      "Distribution of the Classes in the subsample dataset\n",
      "1.0    0.5\n",
      "0.0    0.5\n",
      "Name: poi, dtype: float64\n"
     ]
    },
    {
     "data": {
      "image/png": "[encoded data removed]",
      "text/plain": [
       "<Figure size 432x288 with 1 Axes>"
      ]
     },
     "metadata": {
      "needs_background": "light"
     },
     "output_type": "display_data"
    }
   ],
   "source": [
    "print('Distribution of the Classes in the subsample dataset')\n",
    "print(new_df['poi'].value_counts()/len(new_df))\n",
    "\n",
    "\n",
    "\n",
    "sns.countplot('poi', data=new_df)\n",
    "plt.title('Equally Distributed Classes', fontsize=14)\n",
    "plt.show()"
   ]
  },
  {
   "cell_type": "code",
   "execution_count": 166,
   "metadata": {},
   "outputs": [
    {
     "data": {
      "image/png": "[encoded data removed]",
      "text/plain": [
       "<Figure size 2016x2016 with 4 Axes>"
      ]
     },
     "metadata": {
      "needs_background": "light"
     },
     "output_type": "display_data"
    }
   ],
   "source": [
    "# Make sure we use the subsample in our correlation\n",
    "\n",
    "f, (ax1, ax2) = plt.subplots(2, 1, figsize=(28,28))\n",
    "\n",
    "# Entire DataFrame\n",
    "corr = df.corr()\n",
    "sns.heatmap(corr, cmap='coolwarm_r', annot_kws={'size':20}, ax=ax1)\n",
    "ax1.set_title(\"Imbalanced Correlation Matrix \\n (don't use for reference)\", fontsize=14)\n",
    "\n",
    "\n",
    "sub_sample_corr = new_df.corr()\n",
    "sns.heatmap(sub_sample_corr, cmap='coolwarm_r', annot_kws={'size':20}, ax=ax2)\n",
    "ax2.set_title('SubSample Correlation Matrix \\n (use for reference)', fontsize=14)\n",
    "plt.show()"
   ]
  },
  {
   "cell_type": "code",
   "execution_count": 167,
   "metadata": {},
   "outputs": [
    {
     "data": {
      "image/png": "[encoded data removed]",
      "text/plain": [
       "<Figure size 432x288 with 1 Axes>"
      ]
     },
     "metadata": {
      "needs_background": "light"
     },
     "output_type": "display_data"
    }
   ],
   "source": [
    "# Negative Correlations with our Class (The lower our feature value the more likely it will be a poi transaction)\n",
    "sns.boxplot(x=\"poi\", y=\"deferred_income\", data=new_df)\n",
    "plt.title('deferred_income vs poi Negative Correlation')\n",
    "\n",
    "plt.show()"
   ]
  },
  {
   "cell_type": "code",
   "execution_count": 168,
   "metadata": {},
   "outputs": [
    {
     "data": {
      "image/png": "[encoded data removed]",
      "text/plain": [
       "<Figure size 1440x288 with 4 Axes>"
      ]
     },
     "metadata": {
      "needs_background": "light"
     },
     "output_type": "display_data"
    }
   ],
   "source": [
    "f, axes = plt.subplots(ncols=4, figsize=(20,4))\n",
    "\n",
    "# Positive correlations (The higher the feature the probability increases that it will be a POI transaction)\n",
    "sns.boxplot(x=\"poi\", y=\"salary\", data=new_df, ax=axes[0])\n",
    "axes[0].set_title('salary vs poi Positive Correlation')\n",
    "\n",
    "sns.boxplot(x=\"poi\", y=\"bonus\", data=new_df, ax=axes[1])\n",
    "axes[1].set_title('bonus vs poi Positive Correlation')\n",
    "\n",
    "\n",
    "sns.boxplot(x=\"poi\", y=\"exercised_stock_options\", data=new_df, ax=axes[2])\n",
    "axes[2].set_title('exercised_stock_options vs poi Positive Correlation')\n",
    "\n",
    "\n",
    "sns.boxplot(x=\"poi\", y=\"total_stock_value\", data=new_df, ax=axes[3])\n",
    "axes[3].set_title('total_stock_value vs poi Positive Correlation')\n",
    "\n",
    "plt.show()"
   ]
  },
  {
   "cell_type": "code",
   "execution_count": 169,
   "metadata": {},
   "outputs": [
    {
     "data": {
      "image/png": "[encoded data removed]",
      "text/plain": [
       "<Figure size 432x288 with 1 Axes>"
      ]
     },
     "metadata": {
      "needs_background": "light"
     },
     "output_type": "display_data"
    }
   ],
   "source": [
    "from scipy.stats import norm\n",
    "\n",
    "deferred_income_poi_dist = new_df['deferred_income'].loc[new_df['poi'] == 1].values\n",
    "sns.distplot(deferred_income_poi_dist, fit=norm, color='#FB8861')\n",
    "plt.title('deferred_income Distribution \\n (poi)', fontsize=14)\n",
    "\n",
    "\n",
    "plt.show()"
   ]
  },
  {
   "cell_type": "code",
   "execution_count": 170,
   "metadata": {},
   "outputs": [
    {
     "name": "stdout",
     "output_type": "stream",
     "text": [
      "Quartile 25: -7.926280477826869 | Quartile 75: 0.0\n",
      "iqr: 7.926280477826869\n",
      "Cut Off: 11.889420716740304\n",
      "deferred_income Lower: -19.815701194567172\n",
      "deferred_income Upper: 11.889420716740304\n",
      "Feature deferred_income Outliers for poi Cases: 4\n",
      "Number of Instances after outliers removal: 31\n"
     ]
    }
   ],
   "source": [
    "# # -----> deferred_income Removing Outliers (Highest Negative Correlated with Labels)\n",
    "deferred_income_poi = new_df['deferred_income'].loc[new_df['poi'] == 1].values\n",
    "q25, q75 = np.percentile(deferred_income_poi, 25), np.percentile(deferred_income_poi, 75)\n",
    "print('Quartile 25: {} | Quartile 75: {}'.format(q25, q75))\n",
    "deferred_income_iqr = q75 - q25\n",
    "print('iqr: {}'.format(deferred_income_iqr))\n",
    "\n",
    "deferred_income_cut_off = deferred_income_iqr * 1.5\n",
    "deferred_income_lower, deferred_income_upper = q25 - deferred_income_cut_off, q75 + deferred_income_cut_off\n",
    "print('Cut Off: {}'.format(deferred_income_cut_off))\n",
    "print('deferred_income Lower: {}'.format(deferred_income_lower))\n",
    "print('deferred_income Upper: {}'.format(deferred_income_upper))\n",
    "\n",
    "outliers = [x for x in deferred_income_poi if x < deferred_income_lower or x > deferred_income_upper]\n",
    "print('Feature deferred_income Outliers for poi Cases: {}'.format(len(outliers)))\n",
    "\n",
    "new_df = new_df.drop(new_df[(new_df['deferred_income'] > deferred_income_upper) | (new_df['deferred_income'] < deferred_income_lower)].index)\n",
    "print('Number of Instances after outliers removal: {}'.format(len(new_df)))"
   ]
  },
  {
   "cell_type": "code",
   "execution_count": 171,
   "metadata": {},
   "outputs": [
    {
     "data": {
      "image/png": "[encoded data removed]",
      "text/plain": [
       "<Figure size 432x288 with 1 Axes>"
      ]
     },
     "metadata": {
      "needs_background": "light"
     },
     "output_type": "display_data"
    }
   ],
   "source": [
    "# Boxplots with outliers removed\n",
    "# Feature deferred_income\n",
    "sns.boxplot(x=\"poi\", y=\"deferred_income\", data=new_df)\n",
    "plt.title(\"deferred_income Feature \\n Reduction of outliers\", fontsize=14)\n",
    "plt.annotate('No extreme \\n outliers', xy=(0.98, -17.5), xytext=(0, -12),\n",
    "            arrowprops=dict(facecolor='black'),\n",
    "            fontsize=14)\n",
    "\n",
    "plt.show()"
   ]
  },
  {
   "cell_type": "code",
   "execution_count": 172,
   "metadata": {},
   "outputs": [
    {
     "name": "stdout",
     "output_type": "stream",
     "text": [
      "T-SNE took 0.47 s\n",
      "PCA took 0.002 s\n",
      "Truncated SVD took 0.003 s\n"
     ]
    }
   ],
   "source": [
    "from sklearn.manifold import TSNE\n",
    "from sklearn.decomposition import PCA, TruncatedSVD\n",
    "import time\n",
    "\n",
    "# New_df is from the random undersample data (fewer instances)\n",
    "X = new_df.drop('poi', axis=1)\n",
    "y = new_df['poi']\n",
    "\n",
    "\n",
    "# T-SNE Implementation\n",
    "t0 = time.time()\n",
    "X_reduced_tsne = TSNE(n_components=2, random_state=42).fit_transform(X.values)\n",
    "t1 = time.time()\n",
    "print(\"T-SNE took {:.2} s\".format(t1 - t0))\n",
    "\n",
    "# PCA Implementation\n",
    "t0 = time.time()\n",
    "X_reduced_pca = PCA(n_components=2, random_state=42).fit_transform(X.values)\n",
    "t1 = time.time()\n",
    "print(\"PCA took {:.2} s\".format(t1 - t0))\n",
    "\n",
    "# TruncatedSVD\n",
    "t0 = time.time()\n",
    "X_reduced_svd = TruncatedSVD(n_components=2, algorithm='randomized', random_state=42).fit_transform(X.values)\n",
    "t1 = time.time()\n",
    "print(\"Truncated SVD took {:.2} s\".format(t1 - t0))"
   ]
  },
  {
   "cell_type": "code",
   "execution_count": 173,
   "metadata": {},
   "outputs": [
    {
     "data": {
      "image/png": "[encoded data removed]",
      "text/plain": [
       "<Figure size 1728x432 with 3 Axes>"
      ]
     },
     "metadata": {
      "needs_background": "light"
     },
     "output_type": "display_data"
    }
   ],
   "source": [
    "import matplotlib.patches as mpatches\n",
    "\n",
    "f, (ax1, ax2, ax3) = plt.subplots(1, 3, figsize=(24,6))\n",
    "# labels = ['Not poi', 'poi']\n",
    "f.suptitle('Clusters using Dimensionality Reduction', fontsize=14)\n",
    "\n",
    "\n",
    "blue_patch = mpatches.Patch(color='#0A0AFF', label='Not POI')\n",
    "red_patch = mpatches.Patch(color='#AF0000', label='POI')\n",
    "\n",
    "\n",
    "# t-SNE scatter plot\n",
    "ax1.scatter(X_reduced_tsne[:,0], X_reduced_tsne[:,1], c=(y == 0), cmap='coolwarm', label='Not POI', linewidths=2)\n",
    "ax1.scatter(X_reduced_tsne[:,0], X_reduced_tsne[:,1], c=(y == 1), cmap='coolwarm', label='POI', linewidths=2)\n",
    "ax1.set_title('t-SNE', fontsize=14)\n",
    "\n",
    "ax1.grid(True)\n",
    "\n",
    "ax1.legend(handles=[blue_patch, red_patch])\n",
    "\n",
    "\n",
    "# PCA scatter plot\n",
    "ax2.scatter(X_reduced_pca[:,0], X_reduced_pca[:,1], c=(y == 0), cmap='coolwarm', label='Not POI', linewidths=2)\n",
    "ax2.scatter(X_reduced_pca[:,0], X_reduced_pca[:,1], c=(y == 1), cmap='coolwarm', label='POI', linewidths=2)\n",
    "ax2.set_title('PCA', fontsize=14)\n",
    "\n",
    "ax2.grid(True)\n",
    "\n",
    "ax2.legend(handles=[blue_patch, red_patch])\n",
    "\n",
    "# TruncatedSVD scatter plot\n",
    "ax3.scatter(X_reduced_svd[:,0], X_reduced_svd[:,1], c=(y == 0), cmap='coolwarm', label='Not POI', linewidths=2)\n",
    "ax3.scatter(X_reduced_svd[:,0], X_reduced_svd[:,1], c=(y == 1), cmap='coolwarm', label='POI', linewidths=2)\n",
    "ax3.set_title('Truncated SVD', fontsize=14)\n",
    "\n",
    "ax3.grid(True)\n",
    "\n",
    "ax3.legend(handles=[blue_patch, red_patch])\n",
    "\n",
    "plt.show()"
   ]
  },
  {
   "cell_type": "code",
   "execution_count": 174,
   "metadata": {},
   "outputs": [],
   "source": [
    "# Undersampling before cross validating (prone to overfit)\n",
    "X = new_df.drop('poi', axis=1)\n",
    "y = new_df['poi']"
   ]
  },
  {
   "cell_type": "code",
   "execution_count": 175,
   "metadata": {},
   "outputs": [],
   "source": [
    "# Our data is already scaled we should split our training and test sets\n",
    "from sklearn.model_selection import train_test_split\n",
    "\n",
    "# This is explicitly used for undersampling.\n",
    "X_train, X_test, y_train, y_test = train_test_split(X, y, test_size=0.2, random_state=42)"
   ]
  },
  {
   "cell_type": "code",
   "execution_count": 176,
   "metadata": {},
   "outputs": [],
   "source": [
    "# Turn the values into an array for feeding the classification algorithms.\n",
    "X_train = X_train.values\n",
    "X_test = X_test.values\n",
    "y_train = y_train.values\n",
    "y_test = y_test.values"
   ]
  },
  {
   "cell_type": "code",
   "execution_count": 177,
   "metadata": {},
   "outputs": [],
   "source": [
    "from sklearn.linear_model import LogisticRegression\n",
    "from sklearn.svm import SVC\n",
    "from sklearn.neighbors import KNeighborsClassifier\n",
    "from sklearn.tree import DecisionTreeClassifier\n",
    "\n",
    "# Let's implement simple classifiers\n",
    "\n",
    "classifiers = {\n",
    "    \"LogisiticRegression\": LogisticRegression(),\n",
    "    \"KNearest\": KNeighborsClassifier(),\n",
    "    \"Support Vector Classifier\": SVC(),\n",
    "    \"DecisionTreeClassifier\": DecisionTreeClassifier()\n",
    "}"
   ]
  },
  {
   "cell_type": "code",
   "execution_count": 178,
   "metadata": {},
   "outputs": [
    {
     "name": "stdout",
     "output_type": "stream",
     "text": [
      "Classifiers:  LogisticRegression Has a training score of 75.0 % accuracy score\n",
      "Classifiers:  KNeighborsClassifier Has a training score of 75.0 % accuracy score\n",
      "Classifiers:  SVC Has a training score of 57.99999999999999 % accuracy score\n",
      "Classifiers:  DecisionTreeClassifier Has a training score of 59.0 % accuracy score\n"
     ]
    }
   ],
   "source": [
    "# Wow our scores are getting even high scores even when applying cross validation.\n",
    "from sklearn.model_selection import cross_val_score\n",
    "\n",
    "\n",
    "for key, classifier in classifiers.items():\n",
    "    classifier.fit(X_train, y_train)\n",
    "    training_score = cross_val_score(classifier, X_train, y_train, cv=5)\n",
    "    print(\"Classifiers: \", classifier.__class__.__name__, \"Has a training score of\", round(training_score.mean(), 2) * 100, \"% accuracy score\")"
   ]
  },
  {
   "cell_type": "code",
   "execution_count": 179,
   "metadata": {},
   "outputs": [],
   "source": [
    "# Use GridSearchCV to find the best parameters.\n",
    "from sklearn.model_selection import GridSearchCV\n",
    "\n",
    "\n",
    "# Logistic Regression \n",
    "log_reg_params = {\"penalty\": ['l1', 'l2'], 'C': [0.001, 0.01, 0.1, 1, 10, 100, 1000]}\n",
    "\n",
    "\n",
    "\n",
    "grid_log_reg = GridSearchCV(LogisticRegression(), log_reg_params)\n",
    "grid_log_reg.fit(X_train, y_train)\n",
    "# We automatically get the logistic regression with the best parameters.\n",
    "log_reg = grid_log_reg.best_estimator_\n",
    "\n",
    "knears_params = {\"n_neighbors\": list(range(2,5,1)), 'algorithm': ['auto', 'ball_tree', 'kd_tree', 'brute']}\n",
    "\n",
    "grid_knears = GridSearchCV(KNeighborsClassifier(), knears_params)\n",
    "grid_knears.fit(X_train, y_train)\n",
    "# KNears best estimator\n",
    "knears_neighbors = grid_knears.best_estimator_\n",
    "\n",
    "# Support Vector Classifier\n",
    "svc_params = {'C': [0.5, 0.7, 0.9, 1], 'kernel': ['rbf', 'poly', 'sigmoid', 'linear']}\n",
    "grid_svc = GridSearchCV(SVC(), svc_params)\n",
    "grid_svc.fit(X_train, y_train)\n",
    "\n",
    "# SVC best estimator\n",
    "svc = grid_svc.best_estimator_\n",
    "\n",
    "# DecisionTree Classifier\n",
    "tree_params = {\"criterion\": [\"gini\", \"entropy\"], \"max_depth\": list(range(2,4,1)), \n",
    "              \"min_samples_leaf\": list(range(5,7,1))}\n",
    "grid_tree = GridSearchCV(DecisionTreeClassifier(), tree_params)\n",
    "grid_tree.fit(X_train, y_train)\n",
    "\n",
    "# tree best estimator\n",
    "tree_clf = grid_tree.best_estimator_"
   ]
  },
  {
   "cell_type": "code",
   "execution_count": 180,
   "metadata": {},
   "outputs": [
    {
     "name": "stdout",
     "output_type": "stream",
     "text": [
      "Logistic Regression Cross Validation Score:  83.0%\n",
      "Knears Neighbors Cross Validation Score 75.0%\n",
      "Support Vector Classifier Cross Validation Score 83.0%\n",
      "DecisionTree Classifier Cross Validation Score 66.0%\n"
     ]
    }
   ],
   "source": [
    "# Overfitting Case\n",
    "\n",
    "log_reg_score = cross_val_score(log_reg, X_train, y_train, cv=5)\n",
    "print('Logistic Regression Cross Validation Score: ', round(log_reg_score.mean() * 100, 2).astype(str) + '%')\n",
    "\n",
    "\n",
    "knears_score = cross_val_score(knears_neighbors, X_train, y_train, cv=5)\n",
    "print('Knears Neighbors Cross Validation Score', round(knears_score.mean() * 100, 2).astype(str) + '%')\n",
    "\n",
    "svc_score = cross_val_score(svc, X_train, y_train, cv=5)\n",
    "print('Support Vector Classifier Cross Validation Score', round(svc_score.mean() * 100, 2).astype(str) + '%')\n",
    "\n",
    "tree_score = cross_val_score(tree_clf, X_train, y_train, cv=5)\n",
    "print('DecisionTree Classifier Cross Validation Score', round(tree_score.mean() * 100, 2).astype(str) + '%')"
   ]
  },
  {
   "cell_type": "code",
   "execution_count": 181,
   "metadata": {},
   "outputs": [
    {
     "name": "stdout",
     "output_type": "stream",
     "text": [
      "NearMiss Label Distribution: Counter({0: 18, 1: 18})\n",
      "Train: [[-0.78230686 -0.375      -0.36435388 ... -0.09756098  0.\n",
      "  -0.00629412]\n",
      " [-0.78230686 -0.375      -0.36238476 ... -0.09756098  0.\n",
      "  -0.00629412]\n",
      " [ 0.34789428  2.125       0.49995864 ...  2.19512195  5.92857143\n",
      "   0.00162172]\n",
      " ...\n",
      " [-0.78230686 -0.375      -0.20981142 ... -0.09756098  0.\n",
      "  -0.00629412]\n",
      " [-0.78230686 -0.375       0.08819309 ...  0.75609756  0.35714286\n",
      "  -0.00629412]\n",
      " [-0.19361444 -0.375       4.61601609 ... -0.09756098  0.\n",
      "   0.97703678]] Train: [0 0 0 0 0 0 0 0 0 0 0 0 0 0 0 0 0 1 0 0 0 0 0 0 0 0 0 0 0 1 0 0 0 0 0 0 1\n",
      " 0 0 0 0 1 0 0 0 0 0 0 0 0 0 0 1 0 0 0 0 0 1 0 0 1 0 1 1 0 0 0 0 0 0 1 0 0\n",
      " 0 0 0 0 0 0 0 0 0 0 0 0 0 0 0 0 0 1]\n",
      "Train: [[ 0.57711576  0.375      -0.36435388 ...  0.82926829  0.07142857\n",
      "   0.00527057]\n",
      " [ 0.21035693  1.125       3.64014422 ... -0.09756098  0.\n",
      "  17.67507211]\n",
      " [-0.14701794  0.0625      2.5670501  ... -0.09756098  0.\n",
      "   0.07984953]\n",
      " ...\n",
      " [-0.78230686 -0.375      -0.20981142 ... -0.09756098  0.\n",
      "  -0.00629412]\n",
      " [-0.78230686 -0.375       0.08819309 ...  0.75609756  0.35714286\n",
      "  -0.00629412]\n",
      " [-0.19361444 -0.375       4.61601609 ... -0.09756098  0.\n",
      "   0.97703678]] Train: [0 0 0 0 1 0 0 0 0 0 0 0 0 0 0 0 1 0 0 0 0 0 0 1 0 0 0 0 0 0 0 0 0 0 0 0 0\n",
      " 1 0 0 0 0 1 0 0 0 0 0 0 0 0 0 0 1 0 0 0 0 0 1 0 0 1 0 1 1 0 0 0 0 0 0 1 0\n",
      " 0 0 0 0 0 0 0 0 0 0 0 0 0 0 0 0 0 0 1]\n",
      "Train: [[ 0.57711576  0.375      -0.36435388 ...  0.82926829  0.07142857\n",
      "   0.00527057]\n",
      " [ 0.21035693  1.125       3.64014422 ... -0.09756098  0.\n",
      "  17.67507211]\n",
      " [-0.14701794  0.0625      2.5670501  ... -0.09756098  0.\n",
      "   0.07984953]\n",
      " ...\n",
      " [-0.78230686 -0.375      -0.20981142 ... -0.09756098  0.\n",
      "  -0.00629412]\n",
      " [-0.78230686 -0.375       0.08819309 ...  0.75609756  0.35714286\n",
      "  -0.00629412]\n",
      " [-0.19361444 -0.375       4.61601609 ... -0.09756098  0.\n",
      "   0.97703678]] Train: [0 0 0 0 1 0 0 0 0 0 0 0 0 0 0 0 1 0 0 0 0 0 0 0 0 0 0 0 0 0 1 0 0 0 0 0 0\n",
      " 0 0 0 0 1 0 0 0 0 1 0 0 0 0 0 0 0 0 0 0 0 0 1 0 0 1 0 1 1 0 0 0 0 0 0 1 0\n",
      " 0 0 0 0 0 0 0 0 0 0 0 0 0 0 0 0 0 0 1]\n",
      "Train: [[ 0.57711576  0.375      -0.36435388 ...  0.82926829  0.07142857\n",
      "   0.00527057]\n",
      " [ 0.21035693  1.125       3.64014422 ... -0.09756098  0.\n",
      "  17.67507211]\n",
      " [-0.14701794  0.0625      2.5670501  ... -0.09756098  0.\n",
      "   0.07984953]\n",
      " ...\n",
      " [-0.78230686 -0.375      -0.20981142 ... -0.09756098  0.\n",
      "  -0.00629412]\n",
      " [-0.78230686 -0.375       0.08819309 ...  0.75609756  0.35714286\n",
      "  -0.00629412]\n",
      " [-0.19361444 -0.375       4.61601609 ... -0.09756098  0.\n",
      "   0.97703678]] Train: [0 0 0 0 1 0 0 0 0 0 0 0 0 0 0 0 1 0 0 0 0 0 0 0 0 0 0 0 0 0 1 0 0 0 0 0 0\n",
      " 0 0 0 0 1 0 0 0 0 0 0 0 0 0 0 0 1 0 0 0 0 0 0 1 0 0 0 0 1 0 0 0 1 1 0 1 0\n",
      " 0 0 0 0 0 0 0 0 0 0 0 0 0 0 0 0 0 0 1]\n",
      "Train: [[ 0.57711576  0.375      -0.36435388 ...  0.82926829  0.07142857\n",
      "   0.00527057]\n",
      " [ 0.21035693  1.125       3.64014422 ... -0.09756098  0.\n",
      "  17.67507211]\n",
      " [-0.14701794  0.0625      2.5670501  ... -0.09756098  0.\n",
      "   0.07984953]\n",
      " ...\n",
      " [ 0.38572002  0.625      -0.29389064 ... -0.09756098  0.28571429\n",
      "  -0.00301081]\n",
      " [-0.42946602 -0.375       2.7925749  ... -0.09756098  0.\n",
      "  -0.00512435]\n",
      " [-0.78230686 -0.375      -0.36435388 ... -0.09756098  0.\n",
      "  -0.00629412]] Train: [0 0 0 0 1 0 0 0 0 0 0 0 0 0 0 0 1 0 0 0 0 0 0 0 0 0 0 0 0 0 1 0 0 0 0 0 0\n",
      " 0 0 0 0 1 0 0 0 0 0 0 0 0 0 0 0 1 0 0 0 0 0 0 1 0 0 0 0 1 0 0 0 0 0 0 0 0\n",
      " 0 0 1 0 0 0 0 0 1 0 0 1 0 1 0 0 0 0 0]\n"
     ]
    }
   ],
   "source": [
    "from imblearn.under_sampling import NearMiss\n",
    "from collections import Counter\n",
    "from imblearn.pipeline import make_pipeline as imbalanced_make_pipeline\n",
    "from sklearn.metrics import precision_score, recall_score, f1_score, roc_auc_score, accuracy_score, classification_report\n",
    "\n",
    "# We will undersample during cross validating\n",
    "undersample_X = scalered_df[allFeatures].drop('poi', axis=1)\n",
    "undersample_y = scalered_df['poi'].astype(int)\n",
    "\n",
    "for train_index, test_index in sss.split(undersample_X, undersample_y):\n",
    "    #print(\"Train:\", train_index, \"Test:\", test_index)\n",
    "    undersample_Xtrain, undersample_Xtest = undersample_X.iloc[train_index], undersample_X.iloc[test_index]\n",
    "    undersample_ytrain, undersample_ytest = undersample_y.iloc[train_index], undersample_y.iloc[test_index]\n",
    "\n",
    "np.set_printoptions(suppress=True)   \n",
    "undersample_Xtrain = undersample_Xtrain.values\n",
    "undersample_Xtest = undersample_Xtest.values\n",
    "undersample_ytrain = undersample_ytrain.values\n",
    "undersample_ytest = undersample_ytest.values \n",
    "\n",
    "undersample_accuracy = []\n",
    "undersample_precision = []\n",
    "undersample_recall = []\n",
    "undersample_f1 = []\n",
    "undersample_auc = []\n",
    "\n",
    "# Implementing NearMiss Technique \n",
    "# Distribution of NearMiss (Just to see how it distributes the labels we won't use these variables)\n",
    "X_nearmiss, y_nearmiss = NearMiss().fit_sample(undersample_X.values, undersample_y.values)\n",
    "print('NearMiss Label Distribution: {}'.format(Counter(y_nearmiss)))\n",
    "# Cross Validating the right way\n",
    "\n",
    "for train, test in sss.split(undersample_Xtrain, undersample_ytrain):\n",
    "    print(\"Train:\", undersample_Xtrain[train], \"Train:\", undersample_ytrain[train])\n",
    "    undersample_pipeline = imbalanced_make_pipeline(NearMiss(sampling_strategy='majority'), log_reg) # SMOTE happens during Cross Validation not before..\n",
    "    undersample_model = undersample_pipeline.fit(undersample_Xtrain[train], undersample_ytrain[train])\n",
    "    undersample_prediction = undersample_model.predict(undersample_Xtrain[test])\n",
    "    \n",
    "    undersample_accuracy.append(undersample_pipeline.score(original_Xtrain[test], original_ytrain[test]))\n",
    "    undersample_precision.append(precision_score(original_ytrain[test], undersample_prediction))\n",
    "    undersample_recall.append(recall_score(original_ytrain[test], undersample_prediction))\n",
    "    undersample_f1.append(f1_score(original_ytrain[test], undersample_prediction))\n",
    "    undersample_auc.append(roc_auc_score(original_ytrain[test], undersample_prediction))"
   ]
  },
  {
   "cell_type": "code",
   "execution_count": 182,
   "metadata": {},
   "outputs": [],
   "source": [
    "# Let's Plot LogisticRegression Learning Curve\n",
    "from sklearn.model_selection import ShuffleSplit\n",
    "from sklearn.model_selection import learning_curve\n",
    "\n",
    "def plot_learning_curve(estimator1, estimator2, estimator3, estimator4, X, y, ylim=None, cv=None,\n",
    "                        n_jobs=1, train_sizes=np.linspace(.1, 1.0, 5)):\n",
    "\n",
    "    f, ((ax1, ax2), (ax3, ax4)) = plt.subplots(2,2, figsize=(20,14), sharey=True)\n",
    "\n",
    "    if ylim is not None:\n",
    "        plt.ylim(*ylim)\n",
    "    # First Estimator\n",
    "\n",
    "    train_sizes, train_scores, test_scores = learning_curve(\n",
    "        estimator1, X, y, cv=cv, n_jobs=n_jobs, train_sizes=train_sizes)\n",
    "\n",
    "    train_scores_mean = np.mean(train_scores, axis=1)\n",
    "    train_scores_std = np.std(train_scores, axis=1)\n",
    "    test_scores_mean = np.mean(test_scores, axis=1)\n",
    "    test_scores_std = np.std(test_scores, axis=1)\n",
    "    ax1.fill_between(train_sizes, train_scores_mean - train_scores_std,\n",
    "                     train_scores_mean + train_scores_std, alpha=0.1,\n",
    "                     color=\"#ff9124\")\n",
    "    ax1.fill_between(train_sizes, test_scores_mean - test_scores_std,\n",
    "                     test_scores_mean + test_scores_std, alpha=0.1, color=\"#2492ff\")\n",
    "    ax1.plot(train_sizes, train_scores_mean, 'o-', color=\"#ff9124\",\n",
    "             label=\"Training score\")\n",
    "    ax1.plot(train_sizes, test_scores_mean, 'o-', color=\"#2492ff\",\n",
    "             label=\"Cross-validation score\")\n",
    "    ax1.set_title(\"Logistic Regression Learning Curve\", fontsize=14)\n",
    "    ax1.set_xlabel('Training size (m)')\n",
    "    ax1.set_ylabel('Score')\n",
    "    ax1.grid(True)\n",
    "    ax1.legend(loc=\"best\")\n",
    "    \n",
    "    # # Second Estimator \n",
    "    train_sizes, train_scores, test_scores = learning_curve(\n",
    "        estimator2, X, y, cv=cv, n_jobs=n_jobs, train_sizes=train_sizes)\n",
    "    train_scores_mean = np.mean(train_scores, axis=1)\n",
    "    train_scores_std = np.std(train_scores, axis=1)\n",
    "    test_scores_mean = np.mean(test_scores, axis=1)\n",
    "    test_scores_std = np.std(test_scores, axis=1)\n",
    "    ax2.fill_between(train_sizes, train_scores_mean - train_scores_std,\n",
    "                      train_scores_mean + train_scores_std, alpha=0.1,\n",
    "                      color=\"#ff9124\")\n",
    "    ax2.fill_between(train_sizes, test_scores_mean - test_scores_std,\n",
    "                      test_scores_mean + test_scores_std, alpha=0.1, color=\"#2492ff\")\n",
    "    ax2.plot(train_sizes, train_scores_mean, 'o-', color=\"#ff9124\",\n",
    "              label=\"Training score\")\n",
    "    ax2.plot(train_sizes, test_scores_mean, 'o-', color=\"#2492ff\",\n",
    "              label=\"Cross-validation score\")\n",
    "    ax2.set_title(\"Knears Neighbors Learning Curve\", fontsize=14)\n",
    "    ax2.set_xlabel('Training size (m)')\n",
    "    ax2.set_ylabel('Score')\n",
    "    ax2.grid(True)\n",
    "    ax2.legend(loc=\"best\")\n",
    "    \n",
    "    # # Third Estimator\n",
    "    train_sizes, train_scores, test_scores = learning_curve(\n",
    "        estimator3, X, y, cv=cv, n_jobs=n_jobs, train_sizes=train_sizes)\n",
    "    train_scores_mean = np.mean(train_scores, axis=1)\n",
    "    train_scores_std = np.std(train_scores, axis=1)\n",
    "    test_scores_mean = np.mean(test_scores, axis=1)\n",
    "    test_scores_std = np.std(test_scores, axis=1)\n",
    "    ax3.fill_between(train_sizes, train_scores_mean - train_scores_std,\n",
    "                     train_scores_mean + train_scores_std, alpha=0.1,\n",
    "                     color=\"#ff9124\")\n",
    "    ax3.fill_between(train_sizes, test_scores_mean - test_scores_std,\n",
    "                     test_scores_mean + test_scores_std, alpha=0.1, color=\"#2492ff\")\n",
    "    ax3.plot(train_sizes, train_scores_mean, 'o-', color=\"#ff9124\",\n",
    "             label=\"Training score\")\n",
    "    ax3.plot(train_sizes, test_scores_mean, 'o-', color=\"#2492ff\",\n",
    "             label=\"Cross-validation score\")\n",
    "    ax3.set_title(\"Support Vector Classifier \\n Learning Curve\", fontsize=14)\n",
    "    ax3.set_xlabel('Training size (m)')\n",
    "    ax3.set_ylabel('Score')\n",
    "    ax3.grid(True)\n",
    "    ax3.legend(loc=\"best\")\n",
    "    \n",
    "    # # Fourth Estimator\n",
    "    train_sizes, train_scores, test_scores = learning_curve(\n",
    "        estimator4, X, y, cv=cv, n_jobs=n_jobs, train_sizes=train_sizes)\n",
    "    train_scores_mean = np.mean(train_scores, axis=1)\n",
    "    train_scores_std = np.std(train_scores, axis=1)\n",
    "    test_scores_mean = np.mean(test_scores, axis=1)\n",
    "    test_scores_std = np.std(test_scores, axis=1)\n",
    "    ax4.fill_between(train_sizes, train_scores_mean - train_scores_std,\n",
    "                     train_scores_mean + train_scores_std, alpha=0.1,\n",
    "                     color=\"#ff9124\")\n",
    "    ax4.fill_between(train_sizes, test_scores_mean - test_scores_std,\n",
    "                     test_scores_mean + test_scores_std, alpha=0.1, color=\"#2492ff\")\n",
    "    ax4.plot(train_sizes, train_scores_mean, 'o-', color=\"#ff9124\",\n",
    "             label=\"Training score\")\n",
    "    ax4.plot(train_sizes, test_scores_mean, 'o-', color=\"#2492ff\",\n",
    "             label=\"Cross-validation score\")\n",
    "    ax4.set_title(\"Decision Tree Classifier \\n Learning Curve\", fontsize=14)\n",
    "    ax4.set_xlabel('Training size (m)')\n",
    "    ax4.set_ylabel('Score')\n",
    "    ax4.grid(True)\n",
    "    ax4.legend(loc=\"best\")\n",
    "    return plt"
   ]
  },
  {
   "cell_type": "code",
   "execution_count": 183,
   "metadata": {},
   "outputs": [],
   "source": [
    "#cv = ShuffleSplit(test_size=0.2, random_state=42)\n",
    "#plot_learning_curve(log_reg, knears_neighbors, svc, tree_clf, X_train, y_train, (0.87, 1.01), cv=cv, n_jobs=None)"
   ]
  },
  {
   "cell_type": "code",
   "execution_count": 184,
   "metadata": {},
   "outputs": [],
   "source": [
    "from sklearn.metrics import roc_curve\n",
    "from sklearn.model_selection import cross_val_predict\n",
    "# Create a DataFrame with all the scores and the classifiers names.\n",
    "\n",
    "log_reg_pred = cross_val_predict(log_reg, X_train, y_train, cv=5,\n",
    "                             method=\"decision_function\")\n",
    "\n",
    "knears_pred = cross_val_predict(knears_neighbors, X_train, y_train, cv=5)\n",
    "\n",
    "svc_pred = cross_val_predict(svc, X_train, y_train, cv=5,\n",
    "                             method=\"decision_function\")\n",
    "\n",
    "tree_pred = cross_val_predict(tree_clf, X_train, y_train, cv=5)"
   ]
  },
  {
   "cell_type": "code",
   "execution_count": 185,
   "metadata": {},
   "outputs": [
    {
     "name": "stdout",
     "output_type": "stream",
     "text": [
      "Logistic Regression:  0.9027777777777777\n",
      "KNears Neighbors:  0.75\n",
      "Support Vector Classifier:  0.8819444444444444\n",
      "Decision Tree Classifier:  0.6666666666666666\n"
     ]
    }
   ],
   "source": [
    "from sklearn.metrics import roc_auc_score\n",
    "\n",
    "print('Logistic Regression: ', roc_auc_score(y_train, log_reg_pred))\n",
    "print('KNears Neighbors: ', roc_auc_score(y_train, knears_pred))\n",
    "print('Support Vector Classifier: ', roc_auc_score(y_train, svc_pred))\n",
    "print('Decision Tree Classifier: ', roc_auc_score(y_train, tree_pred))"
   ]
  },
  {
   "cell_type": "code",
   "execution_count": 186,
   "metadata": {},
   "outputs": [
    {
     "data": {
      "image/png": "[encoded data removed]",
      "text/plain": [
       "<Figure size 1152x576 with 1 Axes>"
      ]
     },
     "metadata": {
      "needs_background": "light"
     },
     "output_type": "display_data"
    }
   ],
   "source": [
    "log_fpr, log_tpr, log_thresold = roc_curve(y_train, log_reg_pred)\n",
    "knear_fpr, knear_tpr, knear_threshold = roc_curve(y_train, knears_pred)\n",
    "svc_fpr, svc_tpr, svc_threshold = roc_curve(y_train, svc_pred)\n",
    "tree_fpr, tree_tpr, tree_threshold = roc_curve(y_train, tree_pred)\n",
    "\n",
    "\n",
    "def graph_roc_curve_multiple(log_fpr, log_tpr, knear_fpr, knear_tpr, svc_fpr, svc_tpr, tree_fpr, tree_tpr):\n",
    "    plt.figure(figsize=(16,8))\n",
    "    plt.title('ROC Curve \\n Top 4 Classifiers', fontsize=18)\n",
    "    plt.plot(log_fpr, log_tpr, label='Logistic Regression Classifier Score: {:.4f}'.format(roc_auc_score(y_train, log_reg_pred)))\n",
    "    plt.plot(knear_fpr, knear_tpr, label='KNears Neighbors Classifier Score: {:.4f}'.format(roc_auc_score(y_train, knears_pred)))\n",
    "    plt.plot(svc_fpr, svc_tpr, label='Support Vector Classifier Score: {:.4f}'.format(roc_auc_score(y_train, svc_pred)))\n",
    "    plt.plot(tree_fpr, tree_tpr, label='Decision Tree Classifier Score: {:.4f}'.format(roc_auc_score(y_train, tree_pred)))\n",
    "    plt.plot([0, 1], [0, 1], 'k--')\n",
    "    plt.axis([-0.01, 1, 0, 1])\n",
    "    plt.xlabel('False Positive Rate', fontsize=16)\n",
    "    plt.ylabel('True Positive Rate', fontsize=16)\n",
    "    plt.annotate('Minimum ROC Score of 50% \\n (This is the minimum score to get)', xy=(0.5, 0.5), xytext=(0.6, 0.3),\n",
    "                arrowprops=dict(facecolor='#6E726D', shrink=0.05),\n",
    "                )\n",
    "    plt.legend()\n",
    "    \n",
    "graph_roc_curve_multiple(log_fpr, log_tpr, knear_fpr, knear_tpr, svc_fpr, svc_tpr, tree_fpr, tree_tpr)\n",
    "plt.show()"
   ]
  },
  {
   "cell_type": "code",
   "execution_count": 187,
   "metadata": {},
   "outputs": [
    {
     "data": {
      "image/png": "[encoded data removed]",
      "text/plain": [
       "<Figure size 864x576 with 1 Axes>"
      ]
     },
     "metadata": {
      "needs_background": "light"
     },
     "output_type": "display_data"
    }
   ],
   "source": [
    "def logistic_roc_curve(log_fpr, log_tpr):\n",
    "    plt.figure(figsize=(12,8))\n",
    "    plt.title('Logistic Regression ROC Curve', fontsize=16)\n",
    "    plt.plot(log_fpr, log_tpr, 'b-', linewidth=2)\n",
    "    plt.plot([0, 1], [0, 1], 'r--')\n",
    "    plt.xlabel('False Positive Rate', fontsize=16)\n",
    "    plt.ylabel('True Positive Rate', fontsize=16)\n",
    "    plt.axis([-0.01,1,0,1])\n",
    "    \n",
    "    \n",
    "logistic_roc_curve(log_fpr, log_tpr)\n",
    "plt.show()"
   ]
  },
  {
   "cell_type": "code",
   "execution_count": 188,
   "metadata": {},
   "outputs": [],
   "source": [
    "from sklearn.metrics import precision_recall_curve\n",
    "\n",
    "precision, recall, threshold = precision_recall_curve(y_train, log_reg_pred)"
   ]
  },
  {
   "cell_type": "code",
   "execution_count": 189,
   "metadata": {},
   "outputs": [
    {
     "name": "stdout",
     "output_type": "stream",
     "text": [
      "---------------------------------------------------------------------------------------------------------------------------------------\n",
      "Overfitting: \n",
      "\n",
      "Recall Score: 0.92\n",
      "Precision Score: 0.92\n",
      "F1 Score: 0.92\n",
      "Accuracy Score: 0.92\n",
      "---------------------------------------------------------------------------------------------------------------------------------------\n",
      "---------------------------------------------------------------------------------------------------------------------------------------\n",
      "How it should be:\n",
      "\n",
      "Accuracy Score: 0.77\n",
      "Precision Score: 0.26\n",
      "Recall Score: 0.60\n",
      "F1 Score: 0.36\n",
      "---------------------------------------------------------------------------------------------------------------------------------------\n"
     ]
    }
   ],
   "source": [
    "from sklearn.metrics import recall_score, precision_score, f1_score, accuracy_score\n",
    "y_pred = log_reg.predict(X_train)\n",
    "\n",
    "# Overfitting Case\n",
    "print('---' * 45)\n",
    "print('Overfitting: \\n')\n",
    "print('Recall Score: {:.2f}'.format(recall_score(y_train, y_pred)))\n",
    "print('Precision Score: {:.2f}'.format(precision_score(y_train, y_pred)))\n",
    "print('F1 Score: {:.2f}'.format(f1_score(y_train, y_pred)))\n",
    "print('Accuracy Score: {:.2f}'.format(accuracy_score(y_train, y_pred)))\n",
    "print('---' * 45)\n",
    "\n",
    "# How it should look like\n",
    "print('---' * 45)\n",
    "print('How it should be:\\n')\n",
    "print(\"Accuracy Score: {:.2f}\".format(np.mean(undersample_accuracy)))\n",
    "print(\"Precision Score: {:.2f}\".format(np.mean(undersample_precision)))\n",
    "print(\"Recall Score: {:.2f}\".format(np.mean(undersample_recall)))\n",
    "print(\"F1 Score: {:.2f}\".format(np.mean(undersample_f1)))\n",
    "print('---' * 45)"
   ]
  },
  {
   "cell_type": "code",
   "execution_count": 190,
   "metadata": {},
   "outputs": [],
   "source": [
    "undersample_y_score = log_reg.decision_function(original_Xtest)"
   ]
  },
  {
   "cell_type": "code",
   "execution_count": 191,
   "metadata": {},
   "outputs": [
    {
     "name": "stdout",
     "output_type": "stream",
     "text": [
      "Average precision-recall score: 0.16\n"
     ]
    }
   ],
   "source": [
    "from sklearn.metrics import average_precision_score\n",
    "\n",
    "undersample_average_precision = average_precision_score(original_ytest, undersample_y_score)\n",
    "\n",
    "print('Average precision-recall score: {0:0.2f}'.format(\n",
    "      undersample_average_precision))"
   ]
  },
  {
   "cell_type": "code",
   "execution_count": 192,
   "metadata": {},
   "outputs": [
    {
     "data": {
      "text/plain": [
       "Text(0.5, 1.0, 'UnderSampling Precision-Recall curve: \\n Average Precision-Recall Score =0.16')"
      ]
     },
     "execution_count": 192,
     "metadata": {},
     "output_type": "execute_result"
    },
    {
     "data": {
      "image/png": "[encoded data removed]",
      "text/plain": [
       "<Figure size 864x432 with 1 Axes>"
      ]
     },
     "metadata": {
      "needs_background": "light"
     },
     "output_type": "display_data"
    }
   ],
   "source": [
    "from sklearn.metrics import precision_recall_curve\n",
    "import matplotlib.pyplot as plt\n",
    "\n",
    "fig = plt.figure(figsize=(12,6))\n",
    "\n",
    "precision, recall, _ = precision_recall_curve(original_ytest, undersample_y_score)\n",
    "\n",
    "plt.step(recall, precision, color='#004a93', alpha=0.2,\n",
    "         where='post')\n",
    "plt.fill_between(recall, precision, step='post', alpha=0.2,\n",
    "                 color='#48a6ff')\n",
    "\n",
    "plt.xlabel('Recall')\n",
    "plt.ylabel('Precision')\n",
    "plt.ylim([0.0, 1.05])\n",
    "plt.xlim([0.0, 1.0])\n",
    "plt.title('UnderSampling Precision-Recall curve: \\n Average Precision-Recall Score ={0:0.2f}'.format(\n",
    "          undersample_average_precision), fontsize=16)"
   ]
  },
  {
   "cell_type": "code",
   "execution_count": 193,
   "metadata": {},
   "outputs": [
    {
     "name": "stdout",
     "output_type": "stream",
     "text": [
      "Length of X (train): 116 | Length of y (train): 116\n",
      "Length of X (test): 29 | Length of y (test): 29\n",
      "---------------------------------------------------------------------------------------------------------------------------------------\n",
      "\n",
      "accuracy: 0.8793478260869565\n",
      "precision: 0.3333333333333333\n",
      "recall: 0.4\n",
      "f1: 0.3466666666666667\n",
      "---------------------------------------------------------------------------------------------------------------------------------------\n"
     ]
    }
   ],
   "source": [
    "from imblearn.over_sampling import SMOTE\n",
    "from sklearn.model_selection import train_test_split, RandomizedSearchCV\n",
    "\n",
    "\n",
    "print('Length of X (train): {} | Length of y (train): {}'.format(len(original_Xtrain), len(original_ytrain)))\n",
    "print('Length of X (test): {} | Length of y (test): {}'.format(len(original_Xtest), len(original_ytest)))\n",
    "\n",
    "# List to append the score and then find the average\n",
    "accuracy_lst = []\n",
    "precision_lst = []\n",
    "recall_lst = []\n",
    "f1_lst = []\n",
    "auc_lst = []\n",
    "\n",
    "# Classifier with optimal parameters\n",
    "# log_reg_sm = grid_log_reg.best_estimator_\n",
    "log_reg_sm = LogisticRegression()\n",
    "\n",
    "\n",
    "\n",
    "\n",
    "rand_log_reg = RandomizedSearchCV(LogisticRegression(), log_reg_params, n_iter=4)\n",
    "\n",
    "\n",
    "# Implementing SMOTE Technique \n",
    "# Cross Validating the right way\n",
    "# Parameters\n",
    "log_reg_params = {\"penalty\": ['none', 'l2'], 'C': [0.001, 0.01, 0.1, 1, 10, 100, 1000]}\n",
    "for train, test in sss.split(original_Xtrain, original_ytrain):\n",
    "    pipeline = imbalanced_make_pipeline(SMOTE(sampling_strategy='minority'), rand_log_reg) # SMOTE happens during Cross Validation not before..\n",
    "    model = pipeline.fit(original_Xtrain[train], original_ytrain[train])\n",
    "    best_est = rand_log_reg.best_estimator_\n",
    "    prediction = best_est.predict(original_Xtrain[test])\n",
    "    \n",
    "    accuracy_lst.append(pipeline.score(original_Xtrain[test], original_ytrain[test]))\n",
    "    precision_lst.append(precision_score(original_ytrain[test], prediction))\n",
    "    recall_lst.append(recall_score(original_ytrain[test], prediction))\n",
    "    f1_lst.append(f1_score(original_ytrain[test], prediction))\n",
    "    auc_lst.append(roc_auc_score(original_ytrain[test], prediction))\n",
    "    \n",
    "print('---' * 45)\n",
    "print('')\n",
    "print(\"accuracy: {}\".format(np.mean(accuracy_lst)))\n",
    "print(\"precision: {}\".format(np.mean(precision_lst)))\n",
    "print(\"recall: {}\".format(np.mean(recall_lst)))\n",
    "print(\"f1: {}\".format(np.mean(f1_lst)))\n",
    "print('---' * 45)"
   ]
  },
  {
   "cell_type": "code",
   "execution_count": 194,
   "metadata": {},
   "outputs": [
    {
     "name": "stdout",
     "output_type": "stream",
     "text": [
      "              precision    recall  f1-score   support\n",
      "\n",
      "     Not Poi       0.83      0.76      0.79        25\n",
      "         Poi       0.00      0.00      0.00         4\n",
      "\n",
      "    accuracy                           0.66        29\n",
      "   macro avg       0.41      0.38      0.40        29\n",
      "weighted avg       0.71      0.66      0.68        29\n",
      "\n"
     ]
    }
   ],
   "source": [
    "labels = ['Not Poi', 'Poi']\n",
    "smote_prediction = best_est.predict(original_Xtest)\n",
    "print(classification_report(original_ytest, smote_prediction, target_names=labels))"
   ]
  },
  {
   "cell_type": "code",
   "execution_count": 195,
   "metadata": {},
   "outputs": [],
   "source": [
    "y_score = best_est.decision_function(original_Xtest)"
   ]
  },
  {
   "cell_type": "code",
   "execution_count": 196,
   "metadata": {},
   "outputs": [
    {
     "name": "stdout",
     "output_type": "stream",
     "text": [
      "Average precision-recall score: 0.14\n"
     ]
    }
   ],
   "source": [
    "average_precision = average_precision_score(original_ytest, y_score)\n",
    "\n",
    "print('Average precision-recall score: {0:0.2f}'.format(\n",
    "      average_precision))"
   ]
  },
  {
   "cell_type": "code",
   "execution_count": 197,
   "metadata": {},
   "outputs": [
    {
     "data": {
      "text/plain": [
       "Text(0.5, 1.0, 'OverSampling Precision-Recall curve: \\n Average Precision-Recall Score =0.14')"
      ]
     },
     "execution_count": 197,
     "metadata": {},
     "output_type": "execute_result"
    },
    {
     "data": {
      "image/png": "[encoded data removed]",
      "text/plain": [
       "<Figure size 864x432 with 1 Axes>"
      ]
     },
     "metadata": {
      "needs_background": "light"
     },
     "output_type": "display_data"
    }
   ],
   "source": [
    "fig = plt.figure(figsize=(12,6))\n",
    "\n",
    "precision, recall, _ = precision_recall_curve(original_ytest, y_score)\n",
    "\n",
    "plt.step(recall, precision, color='r', alpha=0.2,\n",
    "         where='post')\n",
    "plt.fill_between(recall, precision, step='post', alpha=0.2,\n",
    "                 color='#F59B00')\n",
    "\n",
    "plt.xlabel('Recall')\n",
    "plt.ylabel('Precision')\n",
    "plt.ylim([0.0, 1.05])\n",
    "plt.xlim([0.0, 1.0])\n",
    "plt.title('OverSampling Precision-Recall curve: \\n Average Precision-Recall Score ={0:0.2f}'.format(\n",
    "          average_precision), fontsize=16)"
   ]
  },
  {
   "cell_type": "code",
   "execution_count": 198,
   "metadata": {},
   "outputs": [
    {
     "data": {
      "text/plain": [
       "array([[ 0.57711576,  0.375     , -0.36435388, ...,  0.82926829,\n",
       "         0.07142857,  0.00527057],\n",
       "       [ 0.21035693,  1.125     ,  3.64014422, ..., -0.09756098,\n",
       "         0.        , 17.67507211],\n",
       "       [-0.14701794,  0.0625    ,  2.5670501 , ..., -0.09756098,\n",
       "         0.        ,  0.07984953],\n",
       "       ...,\n",
       "       [ 0.19682116,  0.72652658,  0.2605836 , ...,  2.5683102 ,\n",
       "         2.4706876 ,  0.24705326],\n",
       "       [ 0.19438322,  1.1945492 , -0.36435388, ...,  4.20866673,\n",
       "         1.58430847,  0.20456599],\n",
       "       [ 1.82739768,  4.95144179, 10.50239616, ...,  4.24997918,\n",
       "         0.97420896, 36.65346138]])"
      ]
     },
     "execution_count": 198,
     "metadata": {},
     "output_type": "execute_result"
    }
   ],
   "source": [
    "# SMOTE Technique (OverSampling) After splitting and Cross Validating\n",
    "sm = SMOTE(random_state=42, sampling_strategy=0.6)\n",
    "# Xsm_train, ysm_train = sm.fit_sample(X_train, y_train)\n",
    "\n",
    "\n",
    "# This will be the data were we are going to \n",
    "Xsm_train, ysm_train = sm.fit_sample(original_Xtrain, original_ytrain)\n",
    "\n",
    "Xsm_train"
   ]
  },
  {
   "cell_type": "code",
   "execution_count": 199,
   "metadata": {},
   "outputs": [
    {
     "name": "stdout",
     "output_type": "stream",
     "text": [
      "Fitting oversample data took :0.037912607192993164 sec\n"
     ]
    }
   ],
   "source": [
    "# Implement GridSearchCV and the other models.\n",
    "\n",
    "# Logistic Regression\n",
    "t0 = time.time()\n",
    "log_reg_sm = grid_log_reg.best_estimator_\n",
    "log_reg_sm.fit(np.array(Xsm_train), np.array(ysm_train))\n",
    "t1 = time.time()\n",
    "print(\"Fitting oversample data took :{} sec\".format(t1 - t0))"
   ]
  },
  {
   "cell_type": "code",
   "execution_count": 200,
   "metadata": {},
   "outputs": [
    {
     "data": {
      "image/png": "[encoded data removed]",
      "text/plain": [
       "<Figure size 1584x864 with 8 Axes>"
      ]
     },
     "metadata": {
      "needs_background": "light"
     },
     "output_type": "display_data"
    }
   ],
   "source": [
    "from sklearn.metrics import confusion_matrix\n",
    "\n",
    "# Logistic Regression fitted using SMOTE technique\n",
    "y_pred_log_reg = log_reg_sm.predict(X_test)\n",
    "\n",
    "# Other models fitted with UnderSampling\n",
    "y_pred_knear = knears_neighbors.predict(X_test)\n",
    "y_pred_svc = svc.predict(X_test)\n",
    "y_pred_tree = tree_clf.predict(X_test)\n",
    "\n",
    "\n",
    "log_reg_cf = confusion_matrix(y_test, y_pred_log_reg)\n",
    "kneighbors_cf = confusion_matrix(y_test, y_pred_knear)\n",
    "svc_cf = confusion_matrix(y_test, y_pred_svc)\n",
    "tree_cf = confusion_matrix(y_test, y_pred_tree)\n",
    "\n",
    "fig, ax = plt.subplots(2, 2,figsize=(22,12))\n",
    "\n",
    "\n",
    "sns.heatmap(log_reg_cf, ax=ax[0][0], annot=True, cmap=plt.cm.copper)\n",
    "ax[0, 0].set_title(\"Logistic Regression \\n Confusion Matrix\", fontsize=14)\n",
    "ax[0, 0].set_xticklabels(['', ''], fontsize=14, rotation=90)\n",
    "ax[0, 0].set_yticklabels(['', ''], fontsize=14, rotation=360)\n",
    "\n",
    "sns.heatmap(kneighbors_cf, ax=ax[0][1], annot=True, cmap=plt.cm.copper)\n",
    "ax[0][1].set_title(\"KNearsNeighbors \\n Confusion Matrix\", fontsize=14)\n",
    "ax[0][1].set_xticklabels(['', ''], fontsize=14, rotation=90)\n",
    "ax[0][1].set_yticklabels(['', ''], fontsize=14, rotation=360)\n",
    "\n",
    "sns.heatmap(svc_cf, ax=ax[1][0], annot=True, cmap=plt.cm.copper)\n",
    "ax[1][0].set_title(\"Suppor Vector Classifier \\n Confusion Matrix\", fontsize=14)\n",
    "ax[1][0].set_xticklabels(['', ''], fontsize=14, rotation=90)\n",
    "ax[1][0].set_yticklabels(['', ''], fontsize=14, rotation=360)\n",
    "\n",
    "sns.heatmap(tree_cf, ax=ax[1][1], annot=True, cmap=plt.cm.copper)\n",
    "ax[1][1].set_title(\"DecisionTree Classifier \\n Confusion Matrix\", fontsize=14)\n",
    "ax[1][1].set_xticklabels(['', ''], fontsize=14, rotation=90)\n",
    "ax[1][1].set_yticklabels(['', ''], fontsize=14, rotation=360)\n",
    "\n",
    "\n",
    "plt.show()"
   ]
  },
  {
   "cell_type": "code",
   "execution_count": 201,
   "metadata": {},
   "outputs": [
    {
     "name": "stdout",
     "output_type": "stream",
     "text": [
      "Logistic Regression:\n",
      "              precision    recall  f1-score   support\n",
      "\n",
      "         0.0       1.00      0.80      0.89         5\n",
      "         1.0       0.67      1.00      0.80         2\n",
      "\n",
      "    accuracy                           0.86         7\n",
      "   macro avg       0.83      0.90      0.84         7\n",
      "weighted avg       0.90      0.86      0.86         7\n",
      "\n",
      "KNears Neighbors:\n",
      "              precision    recall  f1-score   support\n",
      "\n",
      "         0.0       0.60      0.60      0.60         5\n",
      "         1.0       0.00      0.00      0.00         2\n",
      "\n",
      "    accuracy                           0.43         7\n",
      "   macro avg       0.30      0.30      0.30         7\n",
      "weighted avg       0.43      0.43      0.43         7\n",
      "\n",
      "Support Vector Classifier:\n",
      "              precision    recall  f1-score   support\n",
      "\n",
      "         0.0       1.00      0.40      0.57         5\n",
      "         1.0       0.40      1.00      0.57         2\n",
      "\n",
      "    accuracy                           0.57         7\n",
      "   macro avg       0.70      0.70      0.57         7\n",
      "weighted avg       0.83      0.57      0.57         7\n",
      "\n",
      "Support Vector Classifier:\n",
      "              precision    recall  f1-score   support\n",
      "\n",
      "         0.0       0.67      0.40      0.50         5\n",
      "         1.0       0.25      0.50      0.33         2\n",
      "\n",
      "    accuracy                           0.43         7\n",
      "   macro avg       0.46      0.45      0.42         7\n",
      "weighted avg       0.55      0.43      0.45         7\n",
      "\n"
     ]
    }
   ],
   "source": [
    "from sklearn.metrics import classification_report\n",
    "\n",
    "\n",
    "print('Logistic Regression:')\n",
    "print(classification_report(y_test, y_pred_log_reg))\n",
    "\n",
    "print('KNears Neighbors:')\n",
    "print(classification_report(y_test, y_pred_knear))\n",
    "\n",
    "print('Support Vector Classifier:')\n",
    "print(classification_report(y_test, y_pred_svc))\n",
    "\n",
    "print('Support Vector Classifier:')\n",
    "print(classification_report(y_test, y_pred_tree))"
   ]
  },
  {
   "cell_type": "code",
   "execution_count": 202,
   "metadata": {},
   "outputs": [
    {
     "data": {
      "text/html": [
       "<div>\n",
       "<style scoped>\n",
       "    .dataframe tbody tr th:only-of-type {\n",
       "        vertical-align: middle;\n",
       "    }\n",
       "\n",
       "    .dataframe tbody tr th {\n",
       "        vertical-align: top;\n",
       "    }\n",
       "\n",
       "    .dataframe thead th {\n",
       "        text-align: right;\n",
       "    }\n",
       "</style>\n",
       "<table border=\"1\" class=\"dataframe\">\n",
       "  <thead>\n",
       "    <tr style=\"text-align: right;\">\n",
       "      <th></th>\n",
       "      <th>Technique</th>\n",
       "      <th>Score</th>\n",
       "    </tr>\n",
       "  </thead>\n",
       "  <tbody>\n",
       "    <tr>\n",
       "      <th>0</th>\n",
       "      <td>Random UnderSampling</td>\n",
       "      <td>0.857143</td>\n",
       "    </tr>\n",
       "    <tr>\n",
       "      <th>1</th>\n",
       "      <td>Oversampling (SMOTE)</td>\n",
       "      <td>0.655172</td>\n",
       "    </tr>\n",
       "  </tbody>\n",
       "</table>\n",
       "</div>"
      ],
      "text/plain": [
       "              Technique     Score\n",
       "0  Random UnderSampling  0.857143\n",
       "1  Oversampling (SMOTE)  0.655172"
      ]
     },
     "execution_count": 202,
     "metadata": {},
     "output_type": "execute_result"
    }
   ],
   "source": [
    "# Final Score in the test set of logistic regression\n",
    "from sklearn.metrics import accuracy_score\n",
    "\n",
    "# Logistic Regression with Under-Sampling\n",
    "y_pred = log_reg.predict(X_test)\n",
    "undersample_score = accuracy_score(y_test, y_pred)\n",
    "\n",
    "\n",
    "\n",
    "# Logistic Regression with SMOTE Technique (Better accuracy with SMOTE t)\n",
    "y_pred_sm = best_est.predict(original_Xtest)\n",
    "oversample_score = accuracy_score(original_ytest, y_pred_sm)\n",
    "\n",
    "\n",
    "d = {'Technique': ['Random UnderSampling', 'Oversampling (SMOTE)'], 'Score': [undersample_score, oversample_score]}\n",
    "final_df = pd.DataFrame(data=d)\n",
    "\n",
    "# Move column\n",
    "score = final_df['Score']\n",
    "final_df.drop('Score', axis=1, inplace=True)\n",
    "final_df.insert(1, 'Score', score)\n",
    "\n",
    "# Note how high is accuracy score it can be misleading! \n",
    "final_df"
   ]
  },
  {
   "cell_type": "code",
   "execution_count": null,
   "metadata": {},
   "outputs": [],
   "source": [
    "import keras\n",
    "from keras import backend as K\n",
    "from keras.models import Sequential\n",
    "from keras.layers import Activation\n",
    "from keras.layers.core import Dense\n",
    "from keras.optimizers import Adam\n",
    "from keras.metrics import categorical_crossentropy\n",
    "\n",
    "n_inputs = X_train.shape[1]\n",
    "\n",
    "undersample_model = Sequential([\n",
    "    Dense(n_inputs, input_shape=(n_inputs, ), activation='relu'),\n",
    "    Dense(32, activation='relu'),\n",
    "    Dense(2, activation='softmax')\n",
    "])"
   ]
  },
  {
   "cell_type": "code",
   "execution_count": null,
   "metadata": {},
   "outputs": [
    {
     "name": "stdout",
     "output_type": "stream",
     "text": [
      "Model: \"sequential\"\n",
      "_________________________________________________________________\n",
      "Layer (type)                 Output Shape              Param #   \n",
      "=================================================================\n",
      "dense (Dense)                (None, 15)                240       \n",
      "_________________________________________________________________\n",
      "dense_1 (Dense)              (None, 32)                512       \n",
      "_________________________________________________________________\n",
      "dense_2 (Dense)              (None, 2)                 66        \n",
      "=================================================================\n",
      "Total params: 818\n",
      "Trainable params: 818\n",
      "Non-trainable params: 0\n",
      "_________________________________________________________________\n"
     ]
    }
   ],
   "source": [
    "undersample_model.summary()"
   ]
  },
  {
   "cell_type": "code",
   "execution_count": null,
   "metadata": {},
   "outputs": [],
   "source": [
    "undersample_model.compile(Adam(lr=0.001), loss='sparse_categorical_crossentropy', metrics=['accuracy'])"
   ]
  },
  {
   "cell_type": "code",
   "execution_count": null,
   "metadata": {},
   "outputs": [
    {
     "name": "stdout",
     "output_type": "stream",
     "text": [
      "Epoch 1/20\n",
      "1/1 - 0s - loss: 1.2559 - accuracy: 0.4737 - val_loss: 0.8751 - val_accuracy: 0.4000\n",
      "Epoch 2/20\n",
      "1/1 - 0s - loss: 1.1545 - accuracy: 0.4211 - val_loss: 0.8415 - val_accuracy: 0.4000\n",
      "Epoch 3/20\n",
      "1/1 - 0s - loss: 1.0621 - accuracy: 0.4211 - val_loss: 0.8101 - val_accuracy: 0.2000\n",
      "Epoch 4/20\n",
      "1/1 - 0s - loss: 0.9728 - accuracy: 0.4211 - val_loss: 0.7806 - val_accuracy: 0.2000\n",
      "Epoch 5/20\n",
      "1/1 - 0s - loss: 0.8907 - accuracy: 0.4211 - val_loss: 0.7530 - val_accuracy: 0.2000\n",
      "Epoch 6/20\n",
      "1/1 - 0s - loss: 0.8171 - accuracy: 0.4211 - val_loss: 0.7276 - val_accuracy: 0.2000\n",
      "Epoch 7/20\n",
      "1/1 - 0s - loss: 0.7526 - accuracy: 0.4737 - val_loss: 0.7037 - val_accuracy: 0.2000\n",
      "Epoch 8/20\n",
      "1/1 - 0s - loss: 0.7004 - accuracy: 0.5789 - val_loss: 0.6817 - val_accuracy: 0.2000\n",
      "Epoch 9/20\n",
      "1/1 - 0s - loss: 0.6636 - accuracy: 0.6316 - val_loss: 0.6610 - val_accuracy: 0.4000\n",
      "Epoch 10/20\n",
      "1/1 - 0s - loss: 0.6411 - accuracy: 0.6316 - val_loss: 0.6431 - val_accuracy: 0.4000\n",
      "Epoch 11/20\n",
      "1/1 - 0s - loss: 0.6274 - accuracy: 0.6316 - val_loss: 0.6271 - val_accuracy: 0.4000\n",
      "Epoch 12/20\n",
      "1/1 - 0s - loss: 0.6178 - accuracy: 0.6316 - val_loss: 0.6128 - val_accuracy: 0.4000\n",
      "Epoch 13/20\n",
      "1/1 - 0s - loss: 0.6102 - accuracy: 0.5789 - val_loss: 0.6001 - val_accuracy: 0.4000\n",
      "Epoch 14/20\n",
      "1/1 - 0s - loss: 0.6036 - accuracy: 0.5789 - val_loss: 0.5889 - val_accuracy: 0.4000\n",
      "Epoch 15/20\n",
      "1/1 - 0s - loss: 0.5975 - accuracy: 0.5789 - val_loss: 0.5789 - val_accuracy: 0.4000\n",
      "Epoch 16/20\n",
      "1/1 - 0s - loss: 0.5919 - accuracy: 0.5789 - val_loss: 0.5700 - val_accuracy: 0.6000\n",
      "Epoch 17/20\n",
      "1/1 - 0s - loss: 0.5867 - accuracy: 0.5789 - val_loss: 0.5622 - val_accuracy: 0.6000\n",
      "Epoch 18/20\n",
      "1/1 - 0s - loss: 0.5815 - accuracy: 0.5789 - val_loss: 0.5552 - val_accuracy: 0.6000\n",
      "Epoch 19/20\n",
      "1/1 - 0s - loss: 0.5763 - accuracy: 0.6316 - val_loss: 0.5489 - val_accuracy: 0.6000\n",
      "Epoch 20/20\n",
      "1/1 - 0s - loss: 0.5713 - accuracy: 0.6316 - val_loss: 0.5434 - val_accuracy: 0.6000\n"
     ]
    },
    {
     "data": {
      "text/plain": [
       "<tensorflow.python.keras.callbacks.History at 0x1aeb7afba90>"
      ]
     },
     "execution_count": 58,
     "metadata": {},
     "output_type": "execute_result"
    }
   ],
   "source": [
    "undersample_model.fit(X_train, y_train, validation_split=0.2, batch_size=25, epochs=20, shuffle=True, verbose=2)"
   ]
  },
  {
   "cell_type": "code",
   "execution_count": null,
   "metadata": {},
   "outputs": [],
   "source": [
    "undersample_predictions = undersample_model.predict(original_Xtest, batch_size=200, verbose=0)"
   ]
  },
  {
   "cell_type": "code",
   "execution_count": null,
   "metadata": {},
   "outputs": [],
   "source": [
    "#undersample_poi_predictions = undersample_model.predict_classes(original_Xtest, batch_size=200, verbose=0)\n",
    "\n",
    "undersample_poi_predictions_x=undersample_model.predict(original_Xtest) \n",
    "classes_x=np.argmax(undersample_poi_predictions_x,axis=1)"
   ]
  },
  {
   "cell_type": "code",
   "execution_count": null,
   "metadata": {},
   "outputs": [],
   "source": [
    "import itertools\n",
    "\n",
    "# Create a confusion matrix\n",
    "def plot_confusion_matrix(cm, classes,\n",
    "                          normalize=False,\n",
    "                          title='Confusion matrix',\n",
    "                          cmap=plt.cm.Blues):\n",
    "    \"\"\"\n",
    "    This function prints and plots the confusion matrix.\n",
    "    Normalization can be applied by setting `normalize=True`.\n",
    "    \"\"\"\n",
    "    if normalize:\n",
    "        cm = cm.astype('float') / cm.sum(axis=1)[:, np.newaxis]\n",
    "        print(\"Normalized confusion matrix\")\n",
    "    else:\n",
    "        print('Confusion matrix, without normalization')\n",
    "\n",
    "    print(cm)\n",
    "\n",
    "    plt.imshow(cm, interpolation='nearest', cmap=cmap)\n",
    "    plt.title(title, fontsize=14)\n",
    "    plt.colorbar()\n",
    "    tick_marks = np.arange(len(classes))\n",
    "    plt.xticks(tick_marks, classes, rotation=45)\n",
    "    plt.yticks(tick_marks, classes)\n",
    "\n",
    "    fmt = '.2f' if normalize else 'd'\n",
    "    thresh = cm.max() / 2.\n",
    "    for i, j in itertools.product(range(cm.shape[0]), range(cm.shape[1])):\n",
    "        plt.text(j, i, format(cm[i, j], fmt),\n",
    "                 horizontalalignment=\"center\",\n",
    "                 color=\"white\" if cm[i, j] > thresh else \"black\")\n",
    "\n",
    "    plt.tight_layout()\n",
    "    plt.ylabel('True label')\n",
    "    plt.xlabel('Predicted label')"
   ]
  },
  {
   "cell_type": "code",
   "execution_count": null,
   "metadata": {},
   "outputs": [
    {
     "name": "stdout",
     "output_type": "stream",
     "text": [
      "Confusion matrix, without normalization\n",
      "[[ 7 18]\n",
      " [ 1  3]]\n",
      "Confusion matrix, without normalization\n",
      "[[25  0]\n",
      " [ 0  4]]\n"
     ]
    },
    {
     "data": {
      "image/png": "[encoded data removed]",
      "text/plain": [
       "<Figure size 1152x576 with 4 Axes>"
      ]
     },
     "metadata": {
      "needs_background": "light"
     },
     "output_type": "display_data"
    }
   ],
   "source": [
    "undersample_cm = confusion_matrix(original_ytest, classes_x)\n",
    "actual_cm = confusion_matrix(original_ytest, original_ytest)\n",
    "labels = ['Not POI', 'POI']\n",
    "\n",
    "fig = plt.figure(figsize=(16,8))\n",
    "\n",
    "fig.add_subplot(221)\n",
    "plot_confusion_matrix(undersample_cm, labels, title=\"Random UnderSample \\n Confusion Matrix\", cmap=plt.cm.Reds)\n",
    "\n",
    "fig.add_subplot(222)\n",
    "plot_confusion_matrix(actual_cm, labels, title=\"Confusion Matrix \\n (with 100% accuracy)\", cmap=plt.cm.Greens)"
   ]
  },
  {
   "cell_type": "code",
   "execution_count": null,
   "metadata": {},
   "outputs": [],
   "source": [
    "n_inputs = Xsm_train.shape[1]\n",
    "\n",
    "oversample_model = Sequential([\n",
    "    Dense(n_inputs, input_shape=(n_inputs, ), activation='relu'),\n",
    "    Dense(32, activation='relu'),\n",
    "    Dense(2, activation='softmax')\n",
    "])"
   ]
  },
  {
   "cell_type": "code",
   "execution_count": null,
   "metadata": {},
   "outputs": [],
   "source": [
    "oversample_model.compile(Adam(lr=0.001), loss='sparse_categorical_crossentropy', metrics=['accuracy'])"
   ]
  },
  {
   "cell_type": "code",
   "execution_count": null,
   "metadata": {},
   "outputs": [
    {
     "name": "stdout",
     "output_type": "stream",
     "text": [
      "Epoch 1/20\n",
      "1/1 - 0s - loss: 1.1576 - accuracy: 0.6231 - val_loss: 1.7090 - val_accuracy: 0.7273\n",
      "Epoch 2/20\n",
      "1/1 - 0s - loss: 1.0888 - accuracy: 0.6769 - val_loss: 1.7279 - val_accuracy: 0.6970\n",
      "Epoch 3/20\n",
      "1/1 - 0s - loss: 1.0243 - accuracy: 0.6769 - val_loss: 1.7474 - val_accuracy: 0.6667\n",
      "Epoch 4/20\n",
      "1/1 - 0s - loss: 0.9689 - accuracy: 0.6846 - val_loss: 1.7682 - val_accuracy: 0.6061\n",
      "Epoch 5/20\n",
      "1/1 - 0s - loss: 0.9251 - accuracy: 0.7000 - val_loss: 1.7884 - val_accuracy: 0.5758\n",
      "Epoch 6/20\n",
      "1/1 - 0s - loss: 0.8890 - accuracy: 0.7231 - val_loss: 1.8042 - val_accuracy: 0.5758\n",
      "Epoch 7/20\n",
      "1/1 - 0s - loss: 0.8591 - accuracy: 0.7462 - val_loss: 1.8116 - val_accuracy: 0.5758\n",
      "Epoch 8/20\n",
      "1/1 - 0s - loss: 0.8347 - accuracy: 0.7692 - val_loss: 1.8066 - val_accuracy: 0.5152\n",
      "Epoch 9/20\n",
      "1/1 - 0s - loss: 0.8152 - accuracy: 0.8154 - val_loss: 1.7875 - val_accuracy: 0.5152\n",
      "Epoch 10/20\n",
      "1/1 - 0s - loss: 0.7987 - accuracy: 0.8154 - val_loss: 1.7545 - val_accuracy: 0.5152\n",
      "Epoch 11/20\n",
      "1/1 - 0s - loss: 0.7834 - accuracy: 0.8308 - val_loss: 1.7100 - val_accuracy: 0.5455\n",
      "Epoch 12/20\n",
      "1/1 - 0s - loss: 0.7686 - accuracy: 0.8308 - val_loss: 1.6572 - val_accuracy: 0.5455\n",
      "Epoch 13/20\n",
      "1/1 - 0s - loss: 0.7538 - accuracy: 0.8385 - val_loss: 1.5992 - val_accuracy: 0.5455\n",
      "Epoch 14/20\n",
      "1/1 - 0s - loss: 0.7391 - accuracy: 0.8385 - val_loss: 1.5394 - val_accuracy: 0.5455\n",
      "Epoch 15/20\n",
      "1/1 - 0s - loss: 0.7247 - accuracy: 0.8308 - val_loss: 1.4795 - val_accuracy: 0.5758\n",
      "Epoch 16/20\n",
      "1/1 - 0s - loss: 0.7106 - accuracy: 0.8385 - val_loss: 1.4212 - val_accuracy: 0.6364\n",
      "Epoch 17/20\n",
      "1/1 - 0s - loss: 0.6969 - accuracy: 0.8385 - val_loss: 1.3649 - val_accuracy: 0.6364\n",
      "Epoch 18/20\n",
      "1/1 - 0s - loss: 0.6833 - accuracy: 0.8385 - val_loss: 1.3111 - val_accuracy: 0.6667\n",
      "Epoch 19/20\n",
      "1/1 - 0s - loss: 0.6699 - accuracy: 0.8385 - val_loss: 1.2600 - val_accuracy: 0.6970\n",
      "Epoch 20/20\n",
      "1/1 - 0s - loss: 0.6567 - accuracy: 0.8308 - val_loss: 1.2113 - val_accuracy: 0.6970\n"
     ]
    },
    {
     "data": {
      "text/plain": [
       "<tensorflow.python.keras.callbacks.History at 0x1aeb9076a90>"
      ]
     },
     "execution_count": 65,
     "metadata": {},
     "output_type": "execute_result"
    }
   ],
   "source": [
    "oversample_model.fit(Xsm_train, ysm_train, validation_split=0.2, batch_size=300, epochs=20, shuffle=True, verbose=2)"
   ]
  },
  {
   "cell_type": "code",
   "execution_count": null,
   "metadata": {},
   "outputs": [],
   "source": [
    "oversample_predictions = oversample_model.predict(original_Xtest, batch_size=200, verbose=0)"
   ]
  },
  {
   "cell_type": "code",
   "execution_count": null,
   "metadata": {},
   "outputs": [
    {
     "name": "stdout",
     "output_type": "stream",
     "text": [
      "WARNING:tensorflow:From C:\\Users\\Dell\\AppData\\Local\\Temp/ipykernel_15856/95740513.py:1: Sequential.predict_classes (from tensorflow.python.keras.engine.sequential) is deprecated and will be removed after 2021-01-01.\n",
      "Instructions for updating:\n",
      "Please use instead:* `np.argmax(model.predict(x), axis=-1)`,   if your model does multi-class classification   (e.g. if it uses a `softmax` last-layer activation).* `(model.predict(x) > 0.5).astype(\"int32\")`,   if your model does binary classification   (e.g. if it uses a `sigmoid` last-layer activation).\n"
     ]
    }
   ],
   "source": [
    "oversample_poi_predictions = oversample_model.predict_classes(original_Xtest, batch_size=200, verbose=0)"
   ]
  },
  {
   "cell_type": "code",
   "execution_count": null,
   "metadata": {},
   "outputs": [
    {
     "name": "stdout",
     "output_type": "stream",
     "text": [
      "Confusion matrix, without normalization\n",
      "[[20  5]\n",
      " [ 3  1]]\n",
      "Confusion matrix, without normalization\n",
      "[[25  0]\n",
      " [ 0  4]]\n"
     ]
    },
    {
     "data": {
      "image/png": "[encoded data removed]",
      "text/plain": [
       "<Figure size 1152x576 with 4 Axes>"
      ]
     },
     "metadata": {
      "needs_background": "light"
     },
     "output_type": "display_data"
    }
   ],
   "source": [
    "\n",
    "oversample_smote = confusion_matrix(original_ytest, oversample_poi_predictions)\n",
    "actual_cm = confusion_matrix(original_ytest, original_ytest)\n",
    "labels = ['Not POI', 'POI']\n",
    "\n",
    "fig = plt.figure(figsize=(16,8))\n",
    "\n",
    "fig.add_subplot(221)\n",
    "plot_confusion_matrix(oversample_smote, labels, title=\"OverSample (SMOTE) \\n Confusion Matrix\", cmap=plt.cm.Oranges)\n",
    "\n",
    "fig.add_subplot(222)\n",
    "plot_confusion_matrix(actual_cm, labels, title=\"Confusion Matrix \\n (with 100% accuracy)\", cmap=plt.cm.Greens)"
   ]
  }
 ],
 "metadata": {
  "interpreter": {
   "hash": "5fe2a6cf90d1a7684a2ff458870556c949a41206afcf56b1631ab0a4a0007ef9"
  },
  "kernelspec": {
   "display_name": "Python 3.8.3 64-bit ('enron_env': conda)",
   "language": "python",
   "name": "python3"
  },
  "language_info": {
   "codemirror_mode": {
    "name": "ipython",
    "version": 3
   },
   "file_extension": ".py",
   "mimetype": "text/x-python",
   "name": "python",
   "nbconvert_exporter": "python",
   "pygments_lexer": "ipython3",
   "version": "3.8.3"
  },
  "orig_nbformat": 4
 },
 "nbformat": 4,
 "nbformat_minor": 2
}
